{
  "nbformat": 4,
  "nbformat_minor": 0,
  "metadata": {
    "colab": {
      "name": "SuicideAndDepressionDetection.ipynb",
      "provenance": [],
      "collapsed_sections": [],
      "authorship_tag": "ABX9TyOcb0drYyq5H7USShkvwF/p"
    },
    "kernelspec": {
      "name": "python3",
      "display_name": "Python 3"
    },
    "language_info": {
      "name": "python"
    },
    "widgets": {
      "application/vnd.jupyter.widget-state+json": {
        "49fae74fc22e4d08bf761721e0f35f82": {
          "model_module": "@jupyter-widgets/controls",
          "model_name": "HBoxModel",
          "state": {
            "_view_name": "HBoxView",
            "_dom_classes": [],
            "_model_name": "HBoxModel",
            "_view_module": "@jupyter-widgets/controls",
            "_model_module_version": "1.5.0",
            "_view_count": null,
            "_view_module_version": "1.5.0",
            "box_style": "",
            "layout": "IPY_MODEL_79a783e1fb994128b259881bbecfaf4f",
            "_model_module": "@jupyter-widgets/controls",
            "children": [
              "IPY_MODEL_6969ff8677eb4a9eb09281efce0d85ba",
              "IPY_MODEL_2db8d65d5bfc430c84144fc37e6a10af"
            ]
          }
        },
        "79a783e1fb994128b259881bbecfaf4f": {
          "model_module": "@jupyter-widgets/base",
          "model_name": "LayoutModel",
          "state": {
            "_view_name": "LayoutView",
            "grid_template_rows": null,
            "right": null,
            "justify_content": null,
            "_view_module": "@jupyter-widgets/base",
            "overflow": null,
            "_model_module_version": "1.2.0",
            "_view_count": null,
            "flex_flow": null,
            "width": null,
            "min_width": null,
            "border": null,
            "align_items": null,
            "bottom": null,
            "_model_module": "@jupyter-widgets/base",
            "top": null,
            "grid_column": null,
            "overflow_y": null,
            "overflow_x": null,
            "grid_auto_flow": null,
            "grid_area": null,
            "grid_template_columns": null,
            "flex": null,
            "_model_name": "LayoutModel",
            "justify_items": null,
            "grid_row": null,
            "max_height": null,
            "align_content": null,
            "visibility": null,
            "align_self": null,
            "height": null,
            "min_height": null,
            "padding": null,
            "grid_auto_rows": null,
            "grid_gap": null,
            "max_width": null,
            "order": null,
            "_view_module_version": "1.2.0",
            "grid_template_areas": null,
            "object_position": null,
            "object_fit": null,
            "grid_auto_columns": null,
            "margin": null,
            "display": null,
            "left": null
          }
        },
        "6969ff8677eb4a9eb09281efce0d85ba": {
          "model_module": "@jupyter-widgets/controls",
          "model_name": "FloatProgressModel",
          "state": {
            "_view_name": "ProgressView",
            "style": "IPY_MODEL_b3fbccc780b240229faeca07f1cbe0d7",
            "_dom_classes": [],
            "description": "100%",
            "_model_name": "FloatProgressModel",
            "bar_style": "success",
            "max": 348124,
            "_view_module": "@jupyter-widgets/controls",
            "_model_module_version": "1.5.0",
            "value": 348124,
            "_view_count": null,
            "_view_module_version": "1.5.0",
            "orientation": "horizontal",
            "min": 0,
            "description_tooltip": null,
            "_model_module": "@jupyter-widgets/controls",
            "layout": "IPY_MODEL_a76fe8f1dd3746d2a73163ed90a92ea3"
          }
        },
        "2db8d65d5bfc430c84144fc37e6a10af": {
          "model_module": "@jupyter-widgets/controls",
          "model_name": "HTMLModel",
          "state": {
            "_view_name": "HTMLView",
            "style": "IPY_MODEL_745bada16faf42328d388682f2950643",
            "_dom_classes": [],
            "description": "",
            "_model_name": "HTMLModel",
            "placeholder": "​",
            "_view_module": "@jupyter-widgets/controls",
            "_model_module_version": "1.5.0",
            "value": " 348124/348124 [50:29&lt;00:00, 114.90it/s]",
            "_view_count": null,
            "_view_module_version": "1.5.0",
            "description_tooltip": null,
            "_model_module": "@jupyter-widgets/controls",
            "layout": "IPY_MODEL_7bfdba9b946d41bfb0d07e8f54f0002c"
          }
        },
        "b3fbccc780b240229faeca07f1cbe0d7": {
          "model_module": "@jupyter-widgets/controls",
          "model_name": "ProgressStyleModel",
          "state": {
            "_view_name": "StyleView",
            "_model_name": "ProgressStyleModel",
            "description_width": "initial",
            "_view_module": "@jupyter-widgets/base",
            "_model_module_version": "1.5.0",
            "_view_count": null,
            "_view_module_version": "1.2.0",
            "bar_color": null,
            "_model_module": "@jupyter-widgets/controls"
          }
        },
        "a76fe8f1dd3746d2a73163ed90a92ea3": {
          "model_module": "@jupyter-widgets/base",
          "model_name": "LayoutModel",
          "state": {
            "_view_name": "LayoutView",
            "grid_template_rows": null,
            "right": null,
            "justify_content": null,
            "_view_module": "@jupyter-widgets/base",
            "overflow": null,
            "_model_module_version": "1.2.0",
            "_view_count": null,
            "flex_flow": null,
            "width": null,
            "min_width": null,
            "border": null,
            "align_items": null,
            "bottom": null,
            "_model_module": "@jupyter-widgets/base",
            "top": null,
            "grid_column": null,
            "overflow_y": null,
            "overflow_x": null,
            "grid_auto_flow": null,
            "grid_area": null,
            "grid_template_columns": null,
            "flex": null,
            "_model_name": "LayoutModel",
            "justify_items": null,
            "grid_row": null,
            "max_height": null,
            "align_content": null,
            "visibility": null,
            "align_self": null,
            "height": null,
            "min_height": null,
            "padding": null,
            "grid_auto_rows": null,
            "grid_gap": null,
            "max_width": null,
            "order": null,
            "_view_module_version": "1.2.0",
            "grid_template_areas": null,
            "object_position": null,
            "object_fit": null,
            "grid_auto_columns": null,
            "margin": null,
            "display": null,
            "left": null
          }
        },
        "745bada16faf42328d388682f2950643": {
          "model_module": "@jupyter-widgets/controls",
          "model_name": "DescriptionStyleModel",
          "state": {
            "_view_name": "StyleView",
            "_model_name": "DescriptionStyleModel",
            "description_width": "",
            "_view_module": "@jupyter-widgets/base",
            "_model_module_version": "1.5.0",
            "_view_count": null,
            "_view_module_version": "1.2.0",
            "_model_module": "@jupyter-widgets/controls"
          }
        },
        "7bfdba9b946d41bfb0d07e8f54f0002c": {
          "model_module": "@jupyter-widgets/base",
          "model_name": "LayoutModel",
          "state": {
            "_view_name": "LayoutView",
            "grid_template_rows": null,
            "right": null,
            "justify_content": null,
            "_view_module": "@jupyter-widgets/base",
            "overflow": null,
            "_model_module_version": "1.2.0",
            "_view_count": null,
            "flex_flow": null,
            "width": null,
            "min_width": null,
            "border": null,
            "align_items": null,
            "bottom": null,
            "_model_module": "@jupyter-widgets/base",
            "top": null,
            "grid_column": null,
            "overflow_y": null,
            "overflow_x": null,
            "grid_auto_flow": null,
            "grid_area": null,
            "grid_template_columns": null,
            "flex": null,
            "_model_name": "LayoutModel",
            "justify_items": null,
            "grid_row": null,
            "max_height": null,
            "align_content": null,
            "visibility": null,
            "align_self": null,
            "height": null,
            "min_height": null,
            "padding": null,
            "grid_auto_rows": null,
            "grid_gap": null,
            "max_width": null,
            "order": null,
            "_view_module_version": "1.2.0",
            "grid_template_areas": null,
            "object_position": null,
            "object_fit": null,
            "grid_auto_columns": null,
            "margin": null,
            "display": null,
            "left": null
          }
        },
        "6b6e1176cf0342368c3455f03ade28d0": {
          "model_module": "@jupyter-widgets/controls",
          "model_name": "HBoxModel",
          "state": {
            "_view_name": "HBoxView",
            "_dom_classes": [],
            "_model_name": "HBoxModel",
            "_view_module": "@jupyter-widgets/controls",
            "_model_module_version": "1.5.0",
            "_view_count": null,
            "_view_module_version": "1.5.0",
            "box_style": "",
            "layout": "IPY_MODEL_e434b86590424ea39e301c7c2881322e",
            "_model_module": "@jupyter-widgets/controls",
            "children": [
              "IPY_MODEL_f2575a98023349e193b67fb0cba10a05",
              "IPY_MODEL_55a20d639a5f402b9eadecbee057ad95"
            ]
          }
        },
        "e434b86590424ea39e301c7c2881322e": {
          "model_module": "@jupyter-widgets/base",
          "model_name": "LayoutModel",
          "state": {
            "_view_name": "LayoutView",
            "grid_template_rows": null,
            "right": null,
            "justify_content": null,
            "_view_module": "@jupyter-widgets/base",
            "overflow": null,
            "_model_module_version": "1.2.0",
            "_view_count": null,
            "flex_flow": null,
            "width": null,
            "min_width": null,
            "border": null,
            "align_items": null,
            "bottom": null,
            "_model_module": "@jupyter-widgets/base",
            "top": null,
            "grid_column": null,
            "overflow_y": null,
            "overflow_x": null,
            "grid_auto_flow": null,
            "grid_area": null,
            "grid_template_columns": null,
            "flex": null,
            "_model_name": "LayoutModel",
            "justify_items": null,
            "grid_row": null,
            "max_height": null,
            "align_content": null,
            "visibility": null,
            "align_self": null,
            "height": null,
            "min_height": null,
            "padding": null,
            "grid_auto_rows": null,
            "grid_gap": null,
            "max_width": null,
            "order": null,
            "_view_module_version": "1.2.0",
            "grid_template_areas": null,
            "object_position": null,
            "object_fit": null,
            "grid_auto_columns": null,
            "margin": null,
            "display": null,
            "left": null
          }
        },
        "f2575a98023349e193b67fb0cba10a05": {
          "model_module": "@jupyter-widgets/controls",
          "model_name": "FloatProgressModel",
          "state": {
            "_view_name": "ProgressView",
            "style": "IPY_MODEL_8cd2bf3dd80e4c9faf6f5dd8ecd96d65",
            "_dom_classes": [],
            "description": "100%",
            "_model_name": "FloatProgressModel",
            "bar_style": "success",
            "max": 348123,
            "_view_module": "@jupyter-widgets/controls",
            "_model_module_version": "1.5.0",
            "value": 348123,
            "_view_count": null,
            "_view_module_version": "1.5.0",
            "orientation": "horizontal",
            "min": 0,
            "description_tooltip": null,
            "_model_module": "@jupyter-widgets/controls",
            "layout": "IPY_MODEL_3244638ffb7146ebbdeae6e4b98c7d2a"
          }
        },
        "55a20d639a5f402b9eadecbee057ad95": {
          "model_module": "@jupyter-widgets/controls",
          "model_name": "HTMLModel",
          "state": {
            "_view_name": "HTMLView",
            "style": "IPY_MODEL_5e88dadbf3c74151bdc6545b45a90e23",
            "_dom_classes": [],
            "description": "",
            "_model_name": "HTMLModel",
            "placeholder": "​",
            "_view_module": "@jupyter-widgets/controls",
            "_model_module_version": "1.5.0",
            "value": " 348123/348123 [46:39&lt;00:00, 124.34it/s]",
            "_view_count": null,
            "_view_module_version": "1.5.0",
            "description_tooltip": null,
            "_model_module": "@jupyter-widgets/controls",
            "layout": "IPY_MODEL_2441619893f048dba20d8d9065039378"
          }
        },
        "8cd2bf3dd80e4c9faf6f5dd8ecd96d65": {
          "model_module": "@jupyter-widgets/controls",
          "model_name": "ProgressStyleModel",
          "state": {
            "_view_name": "StyleView",
            "_model_name": "ProgressStyleModel",
            "description_width": "initial",
            "_view_module": "@jupyter-widgets/base",
            "_model_module_version": "1.5.0",
            "_view_count": null,
            "_view_module_version": "1.2.0",
            "bar_color": null,
            "_model_module": "@jupyter-widgets/controls"
          }
        },
        "3244638ffb7146ebbdeae6e4b98c7d2a": {
          "model_module": "@jupyter-widgets/base",
          "model_name": "LayoutModel",
          "state": {
            "_view_name": "LayoutView",
            "grid_template_rows": null,
            "right": null,
            "justify_content": null,
            "_view_module": "@jupyter-widgets/base",
            "overflow": null,
            "_model_module_version": "1.2.0",
            "_view_count": null,
            "flex_flow": null,
            "width": null,
            "min_width": null,
            "border": null,
            "align_items": null,
            "bottom": null,
            "_model_module": "@jupyter-widgets/base",
            "top": null,
            "grid_column": null,
            "overflow_y": null,
            "overflow_x": null,
            "grid_auto_flow": null,
            "grid_area": null,
            "grid_template_columns": null,
            "flex": null,
            "_model_name": "LayoutModel",
            "justify_items": null,
            "grid_row": null,
            "max_height": null,
            "align_content": null,
            "visibility": null,
            "align_self": null,
            "height": null,
            "min_height": null,
            "padding": null,
            "grid_auto_rows": null,
            "grid_gap": null,
            "max_width": null,
            "order": null,
            "_view_module_version": "1.2.0",
            "grid_template_areas": null,
            "object_position": null,
            "object_fit": null,
            "grid_auto_columns": null,
            "margin": null,
            "display": null,
            "left": null
          }
        },
        "5e88dadbf3c74151bdc6545b45a90e23": {
          "model_module": "@jupyter-widgets/controls",
          "model_name": "DescriptionStyleModel",
          "state": {
            "_view_name": "StyleView",
            "_model_name": "DescriptionStyleModel",
            "description_width": "",
            "_view_module": "@jupyter-widgets/base",
            "_model_module_version": "1.5.0",
            "_view_count": null,
            "_view_module_version": "1.2.0",
            "_model_module": "@jupyter-widgets/controls"
          }
        },
        "2441619893f048dba20d8d9065039378": {
          "model_module": "@jupyter-widgets/base",
          "model_name": "LayoutModel",
          "state": {
            "_view_name": "LayoutView",
            "grid_template_rows": null,
            "right": null,
            "justify_content": null,
            "_view_module": "@jupyter-widgets/base",
            "overflow": null,
            "_model_module_version": "1.2.0",
            "_view_count": null,
            "flex_flow": null,
            "width": null,
            "min_width": null,
            "border": null,
            "align_items": null,
            "bottom": null,
            "_model_module": "@jupyter-widgets/base",
            "top": null,
            "grid_column": null,
            "overflow_y": null,
            "overflow_x": null,
            "grid_auto_flow": null,
            "grid_area": null,
            "grid_template_columns": null,
            "flex": null,
            "_model_name": "LayoutModel",
            "justify_items": null,
            "grid_row": null,
            "max_height": null,
            "align_content": null,
            "visibility": null,
            "align_self": null,
            "height": null,
            "min_height": null,
            "padding": null,
            "grid_auto_rows": null,
            "grid_gap": null,
            "max_width": null,
            "order": null,
            "_view_module_version": "1.2.0",
            "grid_template_areas": null,
            "object_position": null,
            "object_fit": null,
            "grid_auto_columns": null,
            "margin": null,
            "display": null,
            "left": null
          }
        },
        "a6eeb7b9a1d942ceba8ea842c9eece7d": {
          "model_module": "@jupyter-widgets/controls",
          "model_name": "HBoxModel",
          "state": {
            "_view_name": "HBoxView",
            "_dom_classes": [],
            "_model_name": "HBoxModel",
            "_view_module": "@jupyter-widgets/controls",
            "_model_module_version": "1.5.0",
            "_view_count": null,
            "_view_module_version": "1.5.0",
            "box_style": "",
            "layout": "IPY_MODEL_da6042559f8749ab9fb14cf8b1597153",
            "_model_module": "@jupyter-widgets/controls",
            "children": [
              "IPY_MODEL_5d664440257c4f87ab6808bd92e8d54e",
              "IPY_MODEL_ae98311ddedc440199215a5228341c30"
            ]
          }
        },
        "da6042559f8749ab9fb14cf8b1597153": {
          "model_module": "@jupyter-widgets/base",
          "model_name": "LayoutModel",
          "state": {
            "_view_name": "LayoutView",
            "grid_template_rows": null,
            "right": null,
            "justify_content": null,
            "_view_module": "@jupyter-widgets/base",
            "overflow": null,
            "_model_module_version": "1.2.0",
            "_view_count": null,
            "flex_flow": null,
            "width": null,
            "min_width": null,
            "border": null,
            "align_items": null,
            "bottom": null,
            "_model_module": "@jupyter-widgets/base",
            "top": null,
            "grid_column": null,
            "overflow_y": null,
            "overflow_x": null,
            "grid_auto_flow": null,
            "grid_area": null,
            "grid_template_columns": null,
            "flex": null,
            "_model_name": "LayoutModel",
            "justify_items": null,
            "grid_row": null,
            "max_height": null,
            "align_content": null,
            "visibility": null,
            "align_self": null,
            "height": null,
            "min_height": null,
            "padding": null,
            "grid_auto_rows": null,
            "grid_gap": null,
            "max_width": null,
            "order": null,
            "_view_module_version": "1.2.0",
            "grid_template_areas": null,
            "object_position": null,
            "object_fit": null,
            "grid_auto_columns": null,
            "margin": null,
            "display": null,
            "left": null
          }
        },
        "5d664440257c4f87ab6808bd92e8d54e": {
          "model_module": "@jupyter-widgets/controls",
          "model_name": "FloatProgressModel",
          "state": {
            "_view_name": "ProgressView",
            "style": "IPY_MODEL_acad47944266458fb8bc34e47610132e",
            "_dom_classes": [],
            "description": "100%",
            "_model_name": "FloatProgressModel",
            "bar_style": "success",
            "max": 348123,
            "_view_module": "@jupyter-widgets/controls",
            "_model_module_version": "1.5.0",
            "value": 348123,
            "_view_count": null,
            "_view_module_version": "1.5.0",
            "orientation": "horizontal",
            "min": 0,
            "description_tooltip": null,
            "_model_module": "@jupyter-widgets/controls",
            "layout": "IPY_MODEL_63afe24fa1e648c48055a237cfdc59a4"
          }
        },
        "ae98311ddedc440199215a5228341c30": {
          "model_module": "@jupyter-widgets/controls",
          "model_name": "HTMLModel",
          "state": {
            "_view_name": "HTMLView",
            "style": "IPY_MODEL_14320652d16046128ae430a4576bed64",
            "_dom_classes": [],
            "description": "",
            "_model_name": "HTMLModel",
            "placeholder": "​",
            "_view_module": "@jupyter-widgets/controls",
            "_model_module_version": "1.5.0",
            "value": " 348123/348123 [1:59:23&lt;00:00, 48.60it/s]",
            "_view_count": null,
            "_view_module_version": "1.5.0",
            "description_tooltip": null,
            "_model_module": "@jupyter-widgets/controls",
            "layout": "IPY_MODEL_a6bf96873112431397a0e509cfb8b3eb"
          }
        },
        "acad47944266458fb8bc34e47610132e": {
          "model_module": "@jupyter-widgets/controls",
          "model_name": "ProgressStyleModel",
          "state": {
            "_view_name": "StyleView",
            "_model_name": "ProgressStyleModel",
            "description_width": "initial",
            "_view_module": "@jupyter-widgets/base",
            "_model_module_version": "1.5.0",
            "_view_count": null,
            "_view_module_version": "1.2.0",
            "bar_color": null,
            "_model_module": "@jupyter-widgets/controls"
          }
        },
        "63afe24fa1e648c48055a237cfdc59a4": {
          "model_module": "@jupyter-widgets/base",
          "model_name": "LayoutModel",
          "state": {
            "_view_name": "LayoutView",
            "grid_template_rows": null,
            "right": null,
            "justify_content": null,
            "_view_module": "@jupyter-widgets/base",
            "overflow": null,
            "_model_module_version": "1.2.0",
            "_view_count": null,
            "flex_flow": null,
            "width": null,
            "min_width": null,
            "border": null,
            "align_items": null,
            "bottom": null,
            "_model_module": "@jupyter-widgets/base",
            "top": null,
            "grid_column": null,
            "overflow_y": null,
            "overflow_x": null,
            "grid_auto_flow": null,
            "grid_area": null,
            "grid_template_columns": null,
            "flex": null,
            "_model_name": "LayoutModel",
            "justify_items": null,
            "grid_row": null,
            "max_height": null,
            "align_content": null,
            "visibility": null,
            "align_self": null,
            "height": null,
            "min_height": null,
            "padding": null,
            "grid_auto_rows": null,
            "grid_gap": null,
            "max_width": null,
            "order": null,
            "_view_module_version": "1.2.0",
            "grid_template_areas": null,
            "object_position": null,
            "object_fit": null,
            "grid_auto_columns": null,
            "margin": null,
            "display": null,
            "left": null
          }
        },
        "14320652d16046128ae430a4576bed64": {
          "model_module": "@jupyter-widgets/controls",
          "model_name": "DescriptionStyleModel",
          "state": {
            "_view_name": "StyleView",
            "_model_name": "DescriptionStyleModel",
            "description_width": "",
            "_view_module": "@jupyter-widgets/base",
            "_model_module_version": "1.5.0",
            "_view_count": null,
            "_view_module_version": "1.2.0",
            "_model_module": "@jupyter-widgets/controls"
          }
        },
        "a6bf96873112431397a0e509cfb8b3eb": {
          "model_module": "@jupyter-widgets/base",
          "model_name": "LayoutModel",
          "state": {
            "_view_name": "LayoutView",
            "grid_template_rows": null,
            "right": null,
            "justify_content": null,
            "_view_module": "@jupyter-widgets/base",
            "overflow": null,
            "_model_module_version": "1.2.0",
            "_view_count": null,
            "flex_flow": null,
            "width": null,
            "min_width": null,
            "border": null,
            "align_items": null,
            "bottom": null,
            "_model_module": "@jupyter-widgets/base",
            "top": null,
            "grid_column": null,
            "overflow_y": null,
            "overflow_x": null,
            "grid_auto_flow": null,
            "grid_area": null,
            "grid_template_columns": null,
            "flex": null,
            "_model_name": "LayoutModel",
            "justify_items": null,
            "grid_row": null,
            "max_height": null,
            "align_content": null,
            "visibility": null,
            "align_self": null,
            "height": null,
            "min_height": null,
            "padding": null,
            "grid_auto_rows": null,
            "grid_gap": null,
            "max_width": null,
            "order": null,
            "_view_module_version": "1.2.0",
            "grid_template_areas": null,
            "object_position": null,
            "object_fit": null,
            "grid_auto_columns": null,
            "margin": null,
            "display": null,
            "left": null
          }
        },
        "ba6e72cb92194aaeb1bc4c841cc03963": {
          "model_module": "@jupyter-widgets/controls",
          "model_name": "HBoxModel",
          "state": {
            "_view_name": "HBoxView",
            "_dom_classes": [],
            "_model_name": "HBoxModel",
            "_view_module": "@jupyter-widgets/controls",
            "_model_module_version": "1.5.0",
            "_view_count": null,
            "_view_module_version": "1.5.0",
            "box_style": "",
            "layout": "IPY_MODEL_7e9c91855542421682efbcedfd1ac5ce",
            "_model_module": "@jupyter-widgets/controls",
            "children": [
              "IPY_MODEL_408fec7a82bd4f149de94b418c68b4ff",
              "IPY_MODEL_7f817963cc8d44ae9e86cb62094d2fe7"
            ]
          }
        },
        "7e9c91855542421682efbcedfd1ac5ce": {
          "model_module": "@jupyter-widgets/base",
          "model_name": "LayoutModel",
          "state": {
            "_view_name": "LayoutView",
            "grid_template_rows": null,
            "right": null,
            "justify_content": null,
            "_view_module": "@jupyter-widgets/base",
            "overflow": null,
            "_model_module_version": "1.2.0",
            "_view_count": null,
            "flex_flow": null,
            "width": null,
            "min_width": null,
            "border": null,
            "align_items": null,
            "bottom": null,
            "_model_module": "@jupyter-widgets/base",
            "top": null,
            "grid_column": null,
            "overflow_y": null,
            "overflow_x": null,
            "grid_auto_flow": null,
            "grid_area": null,
            "grid_template_columns": null,
            "flex": null,
            "_model_name": "LayoutModel",
            "justify_items": null,
            "grid_row": null,
            "max_height": null,
            "align_content": null,
            "visibility": null,
            "align_self": null,
            "height": null,
            "min_height": null,
            "padding": null,
            "grid_auto_rows": null,
            "grid_gap": null,
            "max_width": null,
            "order": null,
            "_view_module_version": "1.2.0",
            "grid_template_areas": null,
            "object_position": null,
            "object_fit": null,
            "grid_auto_columns": null,
            "margin": null,
            "display": null,
            "left": null
          }
        },
        "408fec7a82bd4f149de94b418c68b4ff": {
          "model_module": "@jupyter-widgets/controls",
          "model_name": "FloatProgressModel",
          "state": {
            "_view_name": "ProgressView",
            "style": "IPY_MODEL_e654dc25da3e44938f4c16dbaa6a8eae",
            "_dom_classes": [],
            "description": "100%",
            "_model_name": "FloatProgressModel",
            "bar_style": "success",
            "max": 261018,
            "_view_module": "@jupyter-widgets/controls",
            "_model_module_version": "1.5.0",
            "value": 261018,
            "_view_count": null,
            "_view_module_version": "1.5.0",
            "orientation": "horizontal",
            "min": 0,
            "description_tooltip": null,
            "_model_module": "@jupyter-widgets/controls",
            "layout": "IPY_MODEL_5abf4554a42e4d04aa201f40c6d44e69"
          }
        },
        "7f817963cc8d44ae9e86cb62094d2fe7": {
          "model_module": "@jupyter-widgets/controls",
          "model_name": "HTMLModel",
          "state": {
            "_view_name": "HTMLView",
            "style": "IPY_MODEL_22cab7c4155f490590f29a9349b90b4d",
            "_dom_classes": [],
            "description": "",
            "_model_name": "HTMLModel",
            "placeholder": "​",
            "_view_module": "@jupyter-widgets/controls",
            "_model_module_version": "1.5.0",
            "value": " 261018/261018 [3:52:21&lt;00:00, 18.72it/s]",
            "_view_count": null,
            "_view_module_version": "1.5.0",
            "description_tooltip": null,
            "_model_module": "@jupyter-widgets/controls",
            "layout": "IPY_MODEL_ca0380692adc479dbb2101b82bafef2f"
          }
        },
        "e654dc25da3e44938f4c16dbaa6a8eae": {
          "model_module": "@jupyter-widgets/controls",
          "model_name": "ProgressStyleModel",
          "state": {
            "_view_name": "StyleView",
            "_model_name": "ProgressStyleModel",
            "description_width": "initial",
            "_view_module": "@jupyter-widgets/base",
            "_model_module_version": "1.5.0",
            "_view_count": null,
            "_view_module_version": "1.2.0",
            "bar_color": null,
            "_model_module": "@jupyter-widgets/controls"
          }
        },
        "5abf4554a42e4d04aa201f40c6d44e69": {
          "model_module": "@jupyter-widgets/base",
          "model_name": "LayoutModel",
          "state": {
            "_view_name": "LayoutView",
            "grid_template_rows": null,
            "right": null,
            "justify_content": null,
            "_view_module": "@jupyter-widgets/base",
            "overflow": null,
            "_model_module_version": "1.2.0",
            "_view_count": null,
            "flex_flow": null,
            "width": null,
            "min_width": null,
            "border": null,
            "align_items": null,
            "bottom": null,
            "_model_module": "@jupyter-widgets/base",
            "top": null,
            "grid_column": null,
            "overflow_y": null,
            "overflow_x": null,
            "grid_auto_flow": null,
            "grid_area": null,
            "grid_template_columns": null,
            "flex": null,
            "_model_name": "LayoutModel",
            "justify_items": null,
            "grid_row": null,
            "max_height": null,
            "align_content": null,
            "visibility": null,
            "align_self": null,
            "height": null,
            "min_height": null,
            "padding": null,
            "grid_auto_rows": null,
            "grid_gap": null,
            "max_width": null,
            "order": null,
            "_view_module_version": "1.2.0",
            "grid_template_areas": null,
            "object_position": null,
            "object_fit": null,
            "grid_auto_columns": null,
            "margin": null,
            "display": null,
            "left": null
          }
        },
        "22cab7c4155f490590f29a9349b90b4d": {
          "model_module": "@jupyter-widgets/controls",
          "model_name": "DescriptionStyleModel",
          "state": {
            "_view_name": "StyleView",
            "_model_name": "DescriptionStyleModel",
            "description_width": "",
            "_view_module": "@jupyter-widgets/base",
            "_model_module_version": "1.5.0",
            "_view_count": null,
            "_view_module_version": "1.2.0",
            "_model_module": "@jupyter-widgets/controls"
          }
        },
        "ca0380692adc479dbb2101b82bafef2f": {
          "model_module": "@jupyter-widgets/base",
          "model_name": "LayoutModel",
          "state": {
            "_view_name": "LayoutView",
            "grid_template_rows": null,
            "right": null,
            "justify_content": null,
            "_view_module": "@jupyter-widgets/base",
            "overflow": null,
            "_model_module_version": "1.2.0",
            "_view_count": null,
            "flex_flow": null,
            "width": null,
            "min_width": null,
            "border": null,
            "align_items": null,
            "bottom": null,
            "_model_module": "@jupyter-widgets/base",
            "top": null,
            "grid_column": null,
            "overflow_y": null,
            "overflow_x": null,
            "grid_auto_flow": null,
            "grid_area": null,
            "grid_template_columns": null,
            "flex": null,
            "_model_name": "LayoutModel",
            "justify_items": null,
            "grid_row": null,
            "max_height": null,
            "align_content": null,
            "visibility": null,
            "align_self": null,
            "height": null,
            "min_height": null,
            "padding": null,
            "grid_auto_rows": null,
            "grid_gap": null,
            "max_width": null,
            "order": null,
            "_view_module_version": "1.2.0",
            "grid_template_areas": null,
            "object_position": null,
            "object_fit": null,
            "grid_auto_columns": null,
            "margin": null,
            "display": null,
            "left": null
          }
        },
        "d37fd08caf094b61a438b6e026da6e86": {
          "model_module": "@jupyter-widgets/controls",
          "model_name": "HBoxModel",
          "state": {
            "_view_name": "HBoxView",
            "_dom_classes": [],
            "_model_name": "HBoxModel",
            "_view_module": "@jupyter-widgets/controls",
            "_model_module_version": "1.5.0",
            "_view_count": null,
            "_view_module_version": "1.5.0",
            "box_style": "",
            "layout": "IPY_MODEL_a35d559837884f7cb5f9f0137c9bdce6",
            "_model_module": "@jupyter-widgets/controls",
            "children": [
              "IPY_MODEL_b9a79424034d4c5a9b1b841c4a89ff79",
              "IPY_MODEL_6918d152539a49b4bb71a4d5533ae9dd"
            ]
          }
        },
        "a35d559837884f7cb5f9f0137c9bdce6": {
          "model_module": "@jupyter-widgets/base",
          "model_name": "LayoutModel",
          "state": {
            "_view_name": "LayoutView",
            "grid_template_rows": null,
            "right": null,
            "justify_content": null,
            "_view_module": "@jupyter-widgets/base",
            "overflow": null,
            "_model_module_version": "1.2.0",
            "_view_count": null,
            "flex_flow": null,
            "width": null,
            "min_width": null,
            "border": null,
            "align_items": null,
            "bottom": null,
            "_model_module": "@jupyter-widgets/base",
            "top": null,
            "grid_column": null,
            "overflow_y": null,
            "overflow_x": null,
            "grid_auto_flow": null,
            "grid_area": null,
            "grid_template_columns": null,
            "flex": null,
            "_model_name": "LayoutModel",
            "justify_items": null,
            "grid_row": null,
            "max_height": null,
            "align_content": null,
            "visibility": null,
            "align_self": null,
            "height": null,
            "min_height": null,
            "padding": null,
            "grid_auto_rows": null,
            "grid_gap": null,
            "max_width": null,
            "order": null,
            "_view_module_version": "1.2.0",
            "grid_template_areas": null,
            "object_position": null,
            "object_fit": null,
            "grid_auto_columns": null,
            "margin": null,
            "display": null,
            "left": null
          }
        },
        "b9a79424034d4c5a9b1b841c4a89ff79": {
          "model_module": "@jupyter-widgets/controls",
          "model_name": "FloatProgressModel",
          "state": {
            "_view_name": "ProgressView",
            "style": "IPY_MODEL_f0042c65ddf74712b72775e10b810092",
            "_dom_classes": [],
            "description": " 51%",
            "_model_name": "FloatProgressModel",
            "bar_style": "",
            "max": 87006,
            "_view_module": "@jupyter-widgets/controls",
            "_model_module_version": "1.5.0",
            "value": 44296,
            "_view_count": null,
            "_view_module_version": "1.5.0",
            "orientation": "horizontal",
            "min": 0,
            "description_tooltip": null,
            "_model_module": "@jupyter-widgets/controls",
            "layout": "IPY_MODEL_2bb675284d5c4845b89eb37684618397"
          }
        },
        "6918d152539a49b4bb71a4d5533ae9dd": {
          "model_module": "@jupyter-widgets/controls",
          "model_name": "HTMLModel",
          "state": {
            "_view_name": "HTMLView",
            "style": "IPY_MODEL_7cd4a398878e45e383c93cf05231ba18",
            "_dom_classes": [],
            "description": "",
            "_model_name": "HTMLModel",
            "placeholder": "​",
            "_view_module": "@jupyter-widgets/controls",
            "_model_module_version": "1.5.0",
            "value": " 44296/87006 [29:59&lt;29:47, 23.90it/s]",
            "_view_count": null,
            "_view_module_version": "1.5.0",
            "description_tooltip": null,
            "_model_module": "@jupyter-widgets/controls",
            "layout": "IPY_MODEL_7d794e50ade84b9b96585f510e4404b2"
          }
        },
        "f0042c65ddf74712b72775e10b810092": {
          "model_module": "@jupyter-widgets/controls",
          "model_name": "ProgressStyleModel",
          "state": {
            "_view_name": "StyleView",
            "_model_name": "ProgressStyleModel",
            "description_width": "initial",
            "_view_module": "@jupyter-widgets/base",
            "_model_module_version": "1.5.0",
            "_view_count": null,
            "_view_module_version": "1.2.0",
            "bar_color": null,
            "_model_module": "@jupyter-widgets/controls"
          }
        },
        "2bb675284d5c4845b89eb37684618397": {
          "model_module": "@jupyter-widgets/base",
          "model_name": "LayoutModel",
          "state": {
            "_view_name": "LayoutView",
            "grid_template_rows": null,
            "right": null,
            "justify_content": null,
            "_view_module": "@jupyter-widgets/base",
            "overflow": null,
            "_model_module_version": "1.2.0",
            "_view_count": null,
            "flex_flow": null,
            "width": null,
            "min_width": null,
            "border": null,
            "align_items": null,
            "bottom": null,
            "_model_module": "@jupyter-widgets/base",
            "top": null,
            "grid_column": null,
            "overflow_y": null,
            "overflow_x": null,
            "grid_auto_flow": null,
            "grid_area": null,
            "grid_template_columns": null,
            "flex": null,
            "_model_name": "LayoutModel",
            "justify_items": null,
            "grid_row": null,
            "max_height": null,
            "align_content": null,
            "visibility": null,
            "align_self": null,
            "height": null,
            "min_height": null,
            "padding": null,
            "grid_auto_rows": null,
            "grid_gap": null,
            "max_width": null,
            "order": null,
            "_view_module_version": "1.2.0",
            "grid_template_areas": null,
            "object_position": null,
            "object_fit": null,
            "grid_auto_columns": null,
            "margin": null,
            "display": null,
            "left": null
          }
        },
        "7cd4a398878e45e383c93cf05231ba18": {
          "model_module": "@jupyter-widgets/controls",
          "model_name": "DescriptionStyleModel",
          "state": {
            "_view_name": "StyleView",
            "_model_name": "DescriptionStyleModel",
            "description_width": "",
            "_view_module": "@jupyter-widgets/base",
            "_model_module_version": "1.5.0",
            "_view_count": null,
            "_view_module_version": "1.2.0",
            "_model_module": "@jupyter-widgets/controls"
          }
        },
        "7d794e50ade84b9b96585f510e4404b2": {
          "model_module": "@jupyter-widgets/base",
          "model_name": "LayoutModel",
          "state": {
            "_view_name": "LayoutView",
            "grid_template_rows": null,
            "right": null,
            "justify_content": null,
            "_view_module": "@jupyter-widgets/base",
            "overflow": null,
            "_model_module_version": "1.2.0",
            "_view_count": null,
            "flex_flow": null,
            "width": null,
            "min_width": null,
            "border": null,
            "align_items": null,
            "bottom": null,
            "_model_module": "@jupyter-widgets/base",
            "top": null,
            "grid_column": null,
            "overflow_y": null,
            "overflow_x": null,
            "grid_auto_flow": null,
            "grid_area": null,
            "grid_template_columns": null,
            "flex": null,
            "_model_name": "LayoutModel",
            "justify_items": null,
            "grid_row": null,
            "max_height": null,
            "align_content": null,
            "visibility": null,
            "align_self": null,
            "height": null,
            "min_height": null,
            "padding": null,
            "grid_auto_rows": null,
            "grid_gap": null,
            "max_width": null,
            "order": null,
            "_view_module_version": "1.2.0",
            "grid_template_areas": null,
            "object_position": null,
            "object_fit": null,
            "grid_auto_columns": null,
            "margin": null,
            "display": null,
            "left": null
          }
        }
      }
    },
    "accelerator": "TPU"
  },
  "cells": [
    {
      "cell_type": "code",
      "metadata": {
        "id": "zeclp7_vvhzd"
      },
      "source": [
        "# remove folder from local files just for debugging purpose\n",
        "# !rm -rf '/content/uncased_L-12_H-768_A-12'"
      ],
      "execution_count": null,
      "outputs": []
    },
    {
      "cell_type": "code",
      "metadata": {
        "id": "ntSrPyRZyBky",
        "colab": {
          "base_uri": "https://localhost:8080/"
        },
        "outputId": "07fc35e5-07db-4793-8d72-90d0cbe623bb"
      },
      "source": [
        "from google.colab import drive\n",
        "drive.mount('/content/gdrive', force_remount=True)"
      ],
      "execution_count": 1,
      "outputs": [
        {
          "output_type": "stream",
          "text": [
            "Mounted at /content/gdrive\n"
          ],
          "name": "stdout"
        }
      ]
    },
    {
      "cell_type": "code",
      "metadata": {
        "id": "lzluJp94zNU-",
        "colab": {
          "base_uri": "https://localhost:8080/"
        },
        "outputId": "e7b8c766-884d-483a-819d-a919d9e480a5"
      },
      "source": [
        "pip install tensorflow==1.15"
      ],
      "execution_count": null,
      "outputs": [
        {
          "output_type": "stream",
          "text": [
            "Collecting tensorflow==1.15\n",
            "\u001b[?25l  Downloading https://files.pythonhosted.org/packages/92/2b/e3af15221da9ff323521565fa3324b0d7c7c5b1d7a8ca66984c8d59cb0ce/tensorflow-1.15.0-cp37-cp37m-manylinux2010_x86_64.whl (412.3MB)\n",
            "\u001b[K     |████████████████████████████████| 412.3MB 39kB/s \n",
            "\u001b[?25hCollecting tensorboard<1.16.0,>=1.15.0\n",
            "\u001b[?25l  Downloading https://files.pythonhosted.org/packages/1e/e9/d3d747a97f7188f48aa5eda486907f3b345cd409f0a0850468ba867db246/tensorboard-1.15.0-py3-none-any.whl (3.8MB)\n",
            "\u001b[K     |████████████████████████████████| 3.8MB 36.1MB/s \n",
            "\u001b[?25hRequirement already satisfied: wrapt>=1.11.1 in /usr/local/lib/python3.7/dist-packages (from tensorflow==1.15) (1.12.1)\n",
            "Requirement already satisfied: opt-einsum>=2.3.2 in /usr/local/lib/python3.7/dist-packages (from tensorflow==1.15) (3.3.0)\n",
            "Requirement already satisfied: numpy<2.0,>=1.16.0 in /usr/local/lib/python3.7/dist-packages (from tensorflow==1.15) (1.19.5)\n",
            "Requirement already satisfied: wheel>=0.26 in /usr/local/lib/python3.7/dist-packages (from tensorflow==1.15) (0.36.2)\n",
            "Requirement already satisfied: astor>=0.6.0 in /usr/local/lib/python3.7/dist-packages (from tensorflow==1.15) (0.8.1)\n",
            "Requirement already satisfied: protobuf>=3.6.1 in /usr/local/lib/python3.7/dist-packages (from tensorflow==1.15) (3.12.4)\n",
            "Requirement already satisfied: absl-py>=0.7.0 in /usr/local/lib/python3.7/dist-packages (from tensorflow==1.15) (0.12.0)\n",
            "Collecting keras-applications>=1.0.8\n",
            "\u001b[?25l  Downloading https://files.pythonhosted.org/packages/71/e3/19762fdfc62877ae9102edf6342d71b28fbfd9dea3d2f96a882ce099b03f/Keras_Applications-1.0.8-py3-none-any.whl (50kB)\n",
            "\u001b[K     |████████████████████████████████| 51kB 5.2MB/s \n",
            "\u001b[?25hRequirement already satisfied: keras-preprocessing>=1.0.5 in /usr/local/lib/python3.7/dist-packages (from tensorflow==1.15) (1.1.2)\n",
            "Requirement already satisfied: grpcio>=1.8.6 in /usr/local/lib/python3.7/dist-packages (from tensorflow==1.15) (1.32.0)\n",
            "Requirement already satisfied: six>=1.10.0 in /usr/local/lib/python3.7/dist-packages (from tensorflow==1.15) (1.15.0)\n",
            "Requirement already satisfied: termcolor>=1.1.0 in /usr/local/lib/python3.7/dist-packages (from tensorflow==1.15) (1.1.0)\n",
            "Collecting gast==0.2.2\n",
            "  Downloading https://files.pythonhosted.org/packages/4e/35/11749bf99b2d4e3cceb4d55ca22590b0d7c2c62b9de38ac4a4a7f4687421/gast-0.2.2.tar.gz\n",
            "Collecting tensorflow-estimator==1.15.1\n",
            "\u001b[?25l  Downloading https://files.pythonhosted.org/packages/de/62/2ee9cd74c9fa2fa450877847ba560b260f5d0fb70ee0595203082dafcc9d/tensorflow_estimator-1.15.1-py2.py3-none-any.whl (503kB)\n",
            "\u001b[K     |████████████████████████████████| 512kB 36.5MB/s \n",
            "\u001b[?25hRequirement already satisfied: google-pasta>=0.1.6 in /usr/local/lib/python3.7/dist-packages (from tensorflow==1.15) (0.2.0)\n",
            "Requirement already satisfied: werkzeug>=0.11.15 in /usr/local/lib/python3.7/dist-packages (from tensorboard<1.16.0,>=1.15.0->tensorflow==1.15) (2.0.0)\n",
            "Requirement already satisfied: setuptools>=41.0.0 in /usr/local/lib/python3.7/dist-packages (from tensorboard<1.16.0,>=1.15.0->tensorflow==1.15) (56.1.0)\n",
            "Requirement already satisfied: markdown>=2.6.8 in /usr/local/lib/python3.7/dist-packages (from tensorboard<1.16.0,>=1.15.0->tensorflow==1.15) (3.3.4)\n",
            "Requirement already satisfied: h5py in /usr/local/lib/python3.7/dist-packages (from keras-applications>=1.0.8->tensorflow==1.15) (2.10.0)\n",
            "Requirement already satisfied: importlib-metadata; python_version < \"3.8\" in /usr/local/lib/python3.7/dist-packages (from markdown>=2.6.8->tensorboard<1.16.0,>=1.15.0->tensorflow==1.15) (4.0.1)\n",
            "Requirement already satisfied: typing-extensions>=3.6.4; python_version < \"3.8\" in /usr/local/lib/python3.7/dist-packages (from importlib-metadata; python_version < \"3.8\"->markdown>=2.6.8->tensorboard<1.16.0,>=1.15.0->tensorflow==1.15) (3.7.4.3)\n",
            "Requirement already satisfied: zipp>=0.5 in /usr/local/lib/python3.7/dist-packages (from importlib-metadata; python_version < \"3.8\"->markdown>=2.6.8->tensorboard<1.16.0,>=1.15.0->tensorflow==1.15) (3.4.1)\n",
            "Building wheels for collected packages: gast\n",
            "  Building wheel for gast (setup.py) ... \u001b[?25l\u001b[?25hdone\n",
            "  Created wheel for gast: filename=gast-0.2.2-cp37-none-any.whl size=7540 sha256=e1ea7837d227ee9c6ca1c5d4657e846cae347e5ed0e6c1c424d7f4d5197ac5c5\n",
            "  Stored in directory: /root/.cache/pip/wheels/5c/2e/7e/a1d4d4fcebe6c381f378ce7743a3ced3699feb89bcfbdadadd\n",
            "Successfully built gast\n",
            "\u001b[31mERROR: tensorflow-probability 0.12.1 has requirement gast>=0.3.2, but you'll have gast 0.2.2 which is incompatible.\u001b[0m\n",
            "Installing collected packages: tensorboard, keras-applications, gast, tensorflow-estimator, tensorflow\n",
            "  Found existing installation: tensorboard 2.4.1\n",
            "    Uninstalling tensorboard-2.4.1:\n",
            "      Successfully uninstalled tensorboard-2.4.1\n",
            "  Found existing installation: gast 0.3.3\n",
            "    Uninstalling gast-0.3.3:\n",
            "      Successfully uninstalled gast-0.3.3\n",
            "  Found existing installation: tensorflow-estimator 2.4.0\n",
            "    Uninstalling tensorflow-estimator-2.4.0:\n",
            "      Successfully uninstalled tensorflow-estimator-2.4.0\n",
            "  Found existing installation: tensorflow 2.4.1\n",
            "    Uninstalling tensorflow-2.4.1:\n",
            "      Successfully uninstalled tensorflow-2.4.1\n",
            "Successfully installed gast-0.2.2 keras-applications-1.0.8 tensorboard-1.15.0 tensorflow-1.15.0 tensorflow-estimator-1.15.1\n"
          ],
          "name": "stdout"
        }
      ]
    },
    {
      "cell_type": "code",
      "metadata": {
        "id": "33eghqTrOLa1"
      },
      "source": [
        "import pandas as pd\n",
        "import numpy as np\n",
        "import time\n",
        "import re\n",
        "import string\n",
        "import progressbar\n",
        "import pickle\n",
        "from tqdm.notebook import tqdm\n",
        "import nltk\n",
        "from nltk.corpus import stopwords\n",
        "from nltk.corpus import wordnet\n",
        "from sklearn.metrics import accuracy_score\n",
        "from sklearn.model_selection import train_test_split\n",
        "from sklearn.metrics import f1_score\n",
        "from sklearn.linear_model import LogisticRegression\n",
        "from sklearn import preprocessing\n",
        "from sklearn.metrics import plot_confusion_matrix\n",
        "from sklearn import svm\n",
        "from sklearn.naive_bayes import GaussianNB\n",
        "from sklearn.naive_bayes import MultinomialNB\n",
        "from sklearn.naive_bayes import ComplementNB\n",
        "from sklearn.naive_bayes import BernoulliNB\n",
        "from sklearn.neighbors import KNeighborsClassifier\n",
        "import matplotlib.pyplot as plt"
      ],
      "execution_count": 2,
      "outputs": []
    },
    {
      "cell_type": "code",
      "metadata": {
        "id": "FQbIKXdknV8O",
        "colab": {
          "base_uri": "https://localhost:8080/"
        },
        "outputId": "5ea90020-e39b-4846-b590-a01d19a6d7dd"
      },
      "source": [
        "train = pd.read_csv('/content/gdrive/MyDrive/Colab Notebooks/SuicideAndDepression_Detection.csv')\n",
        "train.shape"
      ],
      "execution_count": null,
      "outputs": [
        {
          "output_type": "execute_result",
          "data": {
            "text/plain": [
              "(348124, 2)"
            ]
          },
          "metadata": {
            "tags": []
          },
          "execution_count": 4
        }
      ]
    },
    {
      "cell_type": "code",
      "metadata": {
        "id": "k5Fb_QtSn4m3",
        "colab": {
          "base_uri": "https://localhost:8080/",
          "height": 195
        },
        "outputId": "781cf3dc-ac13-48bf-9e83-0aabaf8067e8"
      },
      "source": [
        "train.head()"
      ],
      "execution_count": null,
      "outputs": [
        {
          "output_type": "execute_result",
          "data": {
            "text/html": [
              "<div>\n",
              "<style scoped>\n",
              "    .dataframe tbody tr th:only-of-type {\n",
              "        vertical-align: middle;\n",
              "    }\n",
              "\n",
              "    .dataframe tbody tr th {\n",
              "        vertical-align: top;\n",
              "    }\n",
              "\n",
              "    .dataframe thead th {\n",
              "        text-align: right;\n",
              "    }\n",
              "</style>\n",
              "<table border=\"1\" class=\"dataframe\">\n",
              "  <thead>\n",
              "    <tr style=\"text-align: right;\">\n",
              "      <th></th>\n",
              "      <th>text</th>\n",
              "      <th>class</th>\n",
              "    </tr>\n",
              "  </thead>\n",
              "  <tbody>\n",
              "    <tr>\n",
              "      <th>0</th>\n",
              "      <td>Does life actually work for most / non-depress...</td>\n",
              "      <td>depression</td>\n",
              "    </tr>\n",
              "    <tr>\n",
              "      <th>1</th>\n",
              "      <td>I found my friend's bodyIt was almost nine yea...</td>\n",
              "      <td>depression</td>\n",
              "    </tr>\n",
              "    <tr>\n",
              "      <th>2</th>\n",
              "      <td>Ex Wife Threatening SuicideRecently I left my ...</td>\n",
              "      <td>SuicideWatch</td>\n",
              "    </tr>\n",
              "    <tr>\n",
              "      <th>3</th>\n",
              "      <td>Am I weird I don't get affected by compliments...</td>\n",
              "      <td>teenagers</td>\n",
              "    </tr>\n",
              "    <tr>\n",
              "      <th>4</th>\n",
              "      <td>Finally 2020 is almost over... So I can never ...</td>\n",
              "      <td>teenagers</td>\n",
              "    </tr>\n",
              "  </tbody>\n",
              "</table>\n",
              "</div>"
            ],
            "text/plain": [
              "                                                text         class\n",
              "0  Does life actually work for most / non-depress...    depression\n",
              "1  I found my friend's bodyIt was almost nine yea...    depression\n",
              "2  Ex Wife Threatening SuicideRecently I left my ...  SuicideWatch\n",
              "3  Am I weird I don't get affected by compliments...     teenagers\n",
              "4  Finally 2020 is almost over... So I can never ...     teenagers"
            ]
          },
          "metadata": {
            "tags": []
          },
          "execution_count": 5
        }
      ]
    },
    {
      "cell_type": "code",
      "metadata": {
        "id": "h3297m6fniqP",
        "colab": {
          "base_uri": "https://localhost:8080/",
          "height": 99,
          "referenced_widgets": [
            "49fae74fc22e4d08bf761721e0f35f82",
            "79a783e1fb994128b259881bbecfaf4f",
            "6969ff8677eb4a9eb09281efce0d85ba",
            "2db8d65d5bfc430c84144fc37e6a10af",
            "b3fbccc780b240229faeca07f1cbe0d7",
            "a76fe8f1dd3746d2a73163ed90a92ea3",
            "745bada16faf42328d388682f2950643",
            "7bfdba9b946d41bfb0d07e8f54f0002c"
          ]
        },
        "outputId": "d2b23e77-530e-46a5-8148-da7dd360b768"
      },
      "source": [
        "\n",
        "# clean text from noise\n",
        "def clean_text(text):\n",
        "    \n",
        "    # remove Unicode characters\n",
        "    text = re.sub(r'[^\\x00-\\x7F]+', '', text)\n",
        "\n",
        "    # taking sequences of characters with alphanumeric characters separated by other characters\n",
        "    text = re.sub(r\"[-?!&]\",' ',text)\n",
        "    text = re.sub(r'''[\"#$%()*+,./:;<=>@[\\]^_`{|}~]''','',text)\n",
        "    \n",
        "    # remove all numeric charracters\n",
        "    text = re.sub(r'[0-9]','',text)\n",
        "\n",
        "    text = re.sub(r\"\\s+\",\" \", text)\n",
        "\n",
        "    Apos_dict={\"'s\":\" is\",\"n't\":\" not\",\"'m\":\" am\",\"'ll\":\" will\",\n",
        "           \"'d\":\" would\",\"'ve\":\" have\",\"'re\":\" are\"}\n",
        "  \n",
        "    #replace the contractions\n",
        "    for key,value in Apos_dict.items():\n",
        "        if key in text:\n",
        "            text=text.replace(key,value)\n",
        "\n",
        "    # convert to lowercase to maintain consistency\n",
        "    text = text.lower()\n",
        "       \n",
        "    return text\n",
        "\n",
        "text = '''heel!! my9 99 name is daygl? \n",
        "\n",
        "    again keep it     rea@l doesn't non-task me th're they've '''\n",
        "print(clean_text(text))\n",
        "\n",
        "for i in tqdm(range(348124)):\n",
        "    try:\n",
        "        train['text'][i] = clean_text(train['text'][i])\n",
        "    except:\n",
        "        print(i)\n",
        "        train = train.drop(i)\n",
        "    i+=1"
      ],
      "execution_count": null,
      "outputs": [
        {
          "output_type": "stream",
          "text": [
            "heel my name is daygl again keep it real does not non task me th are they have \n"
          ],
          "name": "stdout"
        },
        {
          "output_type": "display_data",
          "data": {
            "application/vnd.jupyter.widget-view+json": {
              "model_id": "49fae74fc22e4d08bf761721e0f35f82",
              "version_minor": 0,
              "version_major": 2
            },
            "text/plain": [
              "HBox(children=(FloatProgress(value=0.0, max=348124.0), HTML(value='')))"
            ]
          },
          "metadata": {
            "tags": []
          }
        },
        {
          "output_type": "stream",
          "text": [
            "185323\n",
            "\n"
          ],
          "name": "stdout"
        }
      ]
    },
    {
      "cell_type": "code",
      "metadata": {
        "id": "_LUQI2Ze7d3_",
        "colab": {
          "base_uri": "https://localhost:8080/"
        },
        "outputId": "9d56d451-25b4-40ff-99ec-b709aa781d4d"
      },
      "source": [
        "train.shape"
      ],
      "execution_count": null,
      "outputs": [
        {
          "output_type": "execute_result",
          "data": {
            "text/plain": [
              "(348123, 2)"
            ]
          },
          "metadata": {
            "tags": []
          },
          "execution_count": 8
        }
      ]
    },
    {
      "cell_type": "code",
      "metadata": {
        "colab": {
          "base_uri": "https://localhost:8080/",
          "height": 99,
          "referenced_widgets": [
            "6b6e1176cf0342368c3455f03ade28d0",
            "e434b86590424ea39e301c7c2881322e",
            "f2575a98023349e193b67fb0cba10a05",
            "55a20d639a5f402b9eadecbee057ad95",
            "8cd2bf3dd80e4c9faf6f5dd8ecd96d65",
            "3244638ffb7146ebbdeae6e4b98c7d2a",
            "5e88dadbf3c74151bdc6545b45a90e23",
            "2441619893f048dba20d8d9065039378"
          ]
        },
        "id": "cyF5fV8imlRK",
        "outputId": "6fbd609a-010c-4dbd-b8cb-decae056af33"
      },
      "source": [
        "\n",
        "nltk.download('stopwords')\n",
        "stop = stopwords.words('english')\n",
        "\n",
        "for i in tqdm(range(348123)):\n",
        "    try:\n",
        "        train['text'][i] = ' '.join([word for word in train['text'][i].split() if word not in (stop)])\n",
        "    except:\n",
        "        pass\n",
        "\n",
        "# uncomment this line to do the same task in one line. I just wanted to keep track of the percentage completion.    \n",
        "# train['text'] = train['text'].apply(lambda x: ' '.join([word for word in x.split() if word not in (stop)]))\n"
      ],
      "execution_count": null,
      "outputs": [
        {
          "output_type": "stream",
          "text": [
            "[nltk_data] Downloading package stopwords to /root/nltk_data...\n",
            "[nltk_data]   Package stopwords is already up-to-date!\n"
          ],
          "name": "stdout"
        },
        {
          "output_type": "display_data",
          "data": {
            "application/vnd.jupyter.widget-view+json": {
              "model_id": "6b6e1176cf0342368c3455f03ade28d0",
              "version_minor": 0,
              "version_major": 2
            },
            "text/plain": [
              "HBox(children=(FloatProgress(value=0.0, max=348123.0), HTML(value='')))"
            ]
          },
          "metadata": {
            "tags": []
          }
        },
        {
          "output_type": "stream",
          "text": [
            "\n"
          ],
          "name": "stdout"
        }
      ]
    },
    {
      "cell_type": "code",
      "metadata": {
        "colab": {
          "base_uri": "https://localhost:8080/",
          "height": 133,
          "referenced_widgets": [
            "a6eeb7b9a1d942ceba8ea842c9eece7d",
            "da6042559f8749ab9fb14cf8b1597153",
            "5d664440257c4f87ab6808bd92e8d54e",
            "ae98311ddedc440199215a5228341c30",
            "acad47944266458fb8bc34e47610132e",
            "63afe24fa1e648c48055a237cfdc59a4",
            "14320652d16046128ae430a4576bed64",
            "a6bf96873112431397a0e509cfb8b3eb"
          ]
        },
        "id": "Ng2w_MhzKyfj",
        "outputId": "ea2b7fe7-f801-4a18-d562-79641fe649a8"
      },
      "source": [
        "nltk.download('averaged_perceptron_tagger')\n",
        "\n",
        "def get_wordnet_pos(word):\n",
        "    \"\"\"Map POS tag to first character lemmatize() accepts\"\"\"\n",
        "    tag = nltk.pos_tag([word])[0][1][0].upper()\n",
        "    tag_dict = {\"J\": wordnet.ADJ,\n",
        "                \"N\": wordnet.NOUN,\n",
        "                \"V\": wordnet.VERB,\n",
        "                \"R\": wordnet.ADV}\n",
        "\n",
        "    return tag_dict.get(tag, wordnet.NOUN)\n",
        "\n",
        "\n",
        "import nltk\n",
        "\n",
        "lemmatizer = nltk.stem.WordNetLemmatizer()\n",
        "\n",
        "for i in tqdm(range(348123)):\n",
        "    try:\n",
        "        train['text'][i] = ' '.join([lemmatizer.lemmatize(word, get_wordnet_pos(word)) for word in train['text'][i].split()])\n",
        "    except:\n",
        "        pass\n"
      ],
      "execution_count": null,
      "outputs": [
        {
          "output_type": "stream",
          "text": [
            "[nltk_data] Downloading package averaged_perceptron_tagger to\n",
            "[nltk_data]     /root/nltk_data...\n",
            "[nltk_data]   Package averaged_perceptron_tagger is already up-to-\n",
            "[nltk_data]       date!\n"
          ],
          "name": "stdout"
        },
        {
          "output_type": "display_data",
          "data": {
            "application/vnd.jupyter.widget-view+json": {
              "model_id": "a6eeb7b9a1d942ceba8ea842c9eece7d",
              "version_minor": 0,
              "version_major": 2
            },
            "text/plain": [
              "HBox(children=(FloatProgress(value=0.0, max=348123.0), HTML(value='')))"
            ]
          },
          "metadata": {
            "tags": []
          }
        },
        {
          "output_type": "stream",
          "text": [
            "\n"
          ],
          "name": "stdout"
        }
      ]
    },
    {
      "cell_type": "code",
      "metadata": {
        "colab": {
          "base_uri": "https://localhost:8080/",
          "height": 195
        },
        "id": "nFkM1G6UgZtm",
        "outputId": "7e72c5ad-e35d-496d-fab6-2abed76f5669"
      },
      "source": [
        "train.head()"
      ],
      "execution_count": null,
      "outputs": [
        {
          "output_type": "execute_result",
          "data": {
            "text/html": [
              "<div>\n",
              "<style scoped>\n",
              "    .dataframe tbody tr th:only-of-type {\n",
              "        vertical-align: middle;\n",
              "    }\n",
              "\n",
              "    .dataframe tbody tr th {\n",
              "        vertical-align: top;\n",
              "    }\n",
              "\n",
              "    .dataframe thead th {\n",
              "        text-align: right;\n",
              "    }\n",
              "</style>\n",
              "<table border=\"1\" class=\"dataframe\">\n",
              "  <thead>\n",
              "    <tr style=\"text-align: right;\">\n",
              "      <th></th>\n",
              "      <th>text</th>\n",
              "      <th>class</th>\n",
              "    </tr>\n",
              "  </thead>\n",
              "  <tbody>\n",
              "    <tr>\n",
              "      <th>0</th>\n",
              "      <td>life actually work non depressed people seem p...</td>\n",
              "      <td>depression</td>\n",
              "    </tr>\n",
              "    <tr>\n",
              "      <th>1</th>\n",
              "      <td>found friend bodyit almost nine year ago still...</td>\n",
              "      <td>depression</td>\n",
              "    </tr>\n",
              "    <tr>\n",
              "      <th>2</th>\n",
              "      <td>ex wife threaten suiciderecently left wife goo...</td>\n",
              "      <td>SuicideWatch</td>\n",
              "    </tr>\n",
              "    <tr>\n",
              "      <th>3</th>\n",
              "      <td>weird get affected compliment come someone kno...</td>\n",
              "      <td>teenagers</td>\n",
              "    </tr>\n",
              "    <tr>\n",
              "      <th>4</th>\n",
              "      <td>finally almost never hear bad year ever swear ...</td>\n",
              "      <td>teenagers</td>\n",
              "    </tr>\n",
              "  </tbody>\n",
              "</table>\n",
              "</div>"
            ],
            "text/plain": [
              "                                                text         class\n",
              "0  life actually work non depressed people seem p...    depression\n",
              "1  found friend bodyit almost nine year ago still...    depression\n",
              "2  ex wife threaten suiciderecently left wife goo...  SuicideWatch\n",
              "3  weird get affected compliment come someone kno...     teenagers\n",
              "4  finally almost never hear bad year ever swear ...     teenagers"
            ]
          },
          "metadata": {
            "tags": []
          },
          "execution_count": 12
        }
      ]
    },
    {
      "cell_type": "code",
      "metadata": {
        "id": "cPJhNPej6oPw",
        "colab": {
          "base_uri": "https://localhost:8080/"
        },
        "outputId": "6d4c1a39-b789-4af2-c974-55143e007288"
      },
      "source": [
        "\n",
        "nltk.download('punkt')\n",
        "\n",
        "i = 0\n",
        "max_tokens = 0\n",
        "avg_tokens = 0\n",
        "data_size = len(train['text'])\n",
        "bar = progressbar.ProgressBar(maxval=data_size, \\\n",
        "    widgets=[progressbar.Bar('=', '[', ']'), ' ', progressbar.Percentage()])\n",
        "\n",
        "bar.start()\n",
        "for text in train['text']:\n",
        "    nltk_tokens = nltk.word_tokenize(text)\n",
        "    if (len(nltk_tokens) > max_tokens):\n",
        "        max_tokens = len(nltk_tokens)\n",
        "    avg_tokens+=(len(nltk_tokens)/data_size)\n",
        "\n",
        "    i+=1\n",
        "    bar.update(i)\n",
        "\n",
        "bar.finish()\n",
        "\n",
        "print(max_tokens)\n",
        "print(avg_tokens)"
      ],
      "execution_count": null,
      "outputs": [
        {
          "output_type": "stream",
          "text": [
            "\r                                                                               \r\r[                                                                        ] N/A%"
          ],
          "name": "stderr"
        },
        {
          "output_type": "stream",
          "text": [
            "[nltk_data] Downloading package punkt to /root/nltk_data...\n",
            "[nltk_data]   Package punkt is already up-to-date!\n"
          ],
          "name": "stdout"
        },
        {
          "output_type": "stream",
          "text": [
            "[========================================================================] 100%\n"
          ],
          "name": "stderr"
        },
        {
          "output_type": "stream",
          "text": [
            "5850\n",
            "78.8291580849239\n"
          ],
          "name": "stdout"
        }
      ]
    },
    {
      "cell_type": "code",
      "metadata": {
        "id": "L3hbnvzXuehQ",
        "colab": {
          "base_uri": "https://localhost:8080/",
          "height": 195
        },
        "outputId": "9daf3df5-cfd1-4e3b-c2db-4e473d2fb28c"
      },
      "source": [
        "train = train.rename(columns = {'class' : 'labels'})\n",
        "train.head()"
      ],
      "execution_count": null,
      "outputs": [
        {
          "output_type": "execute_result",
          "data": {
            "text/html": [
              "<div>\n",
              "<style scoped>\n",
              "    .dataframe tbody tr th:only-of-type {\n",
              "        vertical-align: middle;\n",
              "    }\n",
              "\n",
              "    .dataframe tbody tr th {\n",
              "        vertical-align: top;\n",
              "    }\n",
              "\n",
              "    .dataframe thead th {\n",
              "        text-align: right;\n",
              "    }\n",
              "</style>\n",
              "<table border=\"1\" class=\"dataframe\">\n",
              "  <thead>\n",
              "    <tr style=\"text-align: right;\">\n",
              "      <th></th>\n",
              "      <th>text</th>\n",
              "      <th>labels</th>\n",
              "    </tr>\n",
              "  </thead>\n",
              "  <tbody>\n",
              "    <tr>\n",
              "      <th>0</th>\n",
              "      <td>life actually work non depressed people seem p...</td>\n",
              "      <td>depression</td>\n",
              "    </tr>\n",
              "    <tr>\n",
              "      <th>1</th>\n",
              "      <td>found friend bodyit almost nine year ago still...</td>\n",
              "      <td>depression</td>\n",
              "    </tr>\n",
              "    <tr>\n",
              "      <th>2</th>\n",
              "      <td>ex wife threaten suiciderecently left wife goo...</td>\n",
              "      <td>SuicideWatch</td>\n",
              "    </tr>\n",
              "    <tr>\n",
              "      <th>3</th>\n",
              "      <td>weird get affected compliment come someone kno...</td>\n",
              "      <td>teenagers</td>\n",
              "    </tr>\n",
              "    <tr>\n",
              "      <th>4</th>\n",
              "      <td>finally almost never hear bad year ever swear ...</td>\n",
              "      <td>teenagers</td>\n",
              "    </tr>\n",
              "  </tbody>\n",
              "</table>\n",
              "</div>"
            ],
            "text/plain": [
              "                                                text        labels\n",
              "0  life actually work non depressed people seem p...    depression\n",
              "1  found friend bodyit almost nine year ago still...    depression\n",
              "2  ex wife threaten suiciderecently left wife goo...  SuicideWatch\n",
              "3  weird get affected compliment come someone kno...     teenagers\n",
              "4  finally almost never hear bad year ever swear ...     teenagers"
            ]
          },
          "metadata": {
            "tags": []
          },
          "execution_count": 17
        }
      ]
    },
    {
      "cell_type": "code",
      "metadata": {
        "id": "NgTpGJjMwC3Y"
      },
      "source": [
        "train.to_csv('/content/gdrive/MyDrive/Colab Notebooks/preProcessedSuicideAndDepression_Detection.csv', index = False)"
      ],
      "execution_count": null,
      "outputs": []
    },
    {
      "cell_type": "code",
      "metadata": {
        "id": "_CXSdYdzlmLE"
      },
      "source": [
        "train = pd.read_csv('/content/gdrive/MyDrive/Colab Notebooks/preProcessedSuicideAndDepression_Detection.csv')"
      ],
      "execution_count": 3,
      "outputs": []
    },
    {
      "cell_type": "code",
      "metadata": {
        "colab": {
          "base_uri": "https://localhost:8080/",
          "height": 195
        },
        "id": "rD6zU7FOwLaq",
        "outputId": "31c4ade5-cfdc-4467-db84-c969c0ee1692"
      },
      "source": [
        "train.dropna(inplace=True)\n",
        "train.head()"
      ],
      "execution_count": 4,
      "outputs": [
        {
          "output_type": "execute_result",
          "data": {
            "text/html": [
              "<div>\n",
              "<style scoped>\n",
              "    .dataframe tbody tr th:only-of-type {\n",
              "        vertical-align: middle;\n",
              "    }\n",
              "\n",
              "    .dataframe tbody tr th {\n",
              "        vertical-align: top;\n",
              "    }\n",
              "\n",
              "    .dataframe thead th {\n",
              "        text-align: right;\n",
              "    }\n",
              "</style>\n",
              "<table border=\"1\" class=\"dataframe\">\n",
              "  <thead>\n",
              "    <tr style=\"text-align: right;\">\n",
              "      <th></th>\n",
              "      <th>text</th>\n",
              "      <th>labels</th>\n",
              "    </tr>\n",
              "  </thead>\n",
              "  <tbody>\n",
              "    <tr>\n",
              "      <th>0</th>\n",
              "      <td>life actually work non depressed people seem p...</td>\n",
              "      <td>depression</td>\n",
              "    </tr>\n",
              "    <tr>\n",
              "      <th>1</th>\n",
              "      <td>found friend bodyit almost nine year ago still...</td>\n",
              "      <td>depression</td>\n",
              "    </tr>\n",
              "    <tr>\n",
              "      <th>2</th>\n",
              "      <td>ex wife threaten suiciderecently left wife goo...</td>\n",
              "      <td>SuicideWatch</td>\n",
              "    </tr>\n",
              "    <tr>\n",
              "      <th>3</th>\n",
              "      <td>weird get affected compliment come someone kno...</td>\n",
              "      <td>teenagers</td>\n",
              "    </tr>\n",
              "    <tr>\n",
              "      <th>4</th>\n",
              "      <td>finally almost never hear bad year ever swear ...</td>\n",
              "      <td>teenagers</td>\n",
              "    </tr>\n",
              "  </tbody>\n",
              "</table>\n",
              "</div>"
            ],
            "text/plain": [
              "                                                text        labels\n",
              "0  life actually work non depressed people seem p...    depression\n",
              "1  found friend bodyit almost nine year ago still...    depression\n",
              "2  ex wife threaten suiciderecently left wife goo...  SuicideWatch\n",
              "3  weird get affected compliment come someone kno...     teenagers\n",
              "4  finally almost never hear bad year ever swear ...     teenagers"
            ]
          },
          "metadata": {
            "tags": []
          },
          "execution_count": 4
        }
      ]
    },
    {
      "cell_type": "code",
      "metadata": {
        "id": "aJ5pBqDbtKzh",
        "colab": {
          "base_uri": "https://localhost:8080/"
        },
        "outputId": "3536f6d7-e7d3-4ee5-be21-43ee5b2f25ad"
      },
      "source": [
        "\n",
        "# split into training and validation sets\n",
        "X_train, X_val, y_train, y_val = train_test_split(train.text, train.labels, test_size=0.25, random_state=42)\n",
        "\n",
        "print('X_train shape:',X_train.shape)\n",
        "print('X_train shape:',X_val.shape)"
      ],
      "execution_count": 5,
      "outputs": [
        {
          "output_type": "stream",
          "text": [
            "X_train shape: (261018,)\n",
            "X_train shape: (87006,)\n"
          ],
          "name": "stdout"
        }
      ]
    },
    {
      "cell_type": "code",
      "metadata": {
        "colab": {
          "base_uri": "https://localhost:8080/"
        },
        "id": "N6eMhSc5aSKd",
        "outputId": "c2f2e49a-a7f3-4e5d-d7d3-6937f9cb5f19"
      },
      "source": [
        "X_train"
      ],
      "execution_count": 6,
      "outputs": [
        {
          "output_type": "execute_result",
          "data": {
            "text/plain": [
              "183834    wont get betteri wont get well stop stay im po...\n",
              "316057             watch futurama thought id date amy leela\n",
              "28161     suggestion feel worthless overwhelmed like dro...\n",
              "177238    really really v frustrate time brain decides s...\n",
              "331116    anyone ever get goosebump shit idk hate make b...\n",
              "                                ...                        \n",
              "119918    even sure sayhello everyone sure many people s...\n",
              "259255        hey wanna know something regret know bout pee\n",
              "131975    ghost problem againi start feel half scar half...\n",
              "146914    know girlthis first time make post go nothing ...\n",
              "121998    school could go train feel well myselfbut woul...\n",
              "Name: text, Length: 261018, dtype: object"
            ]
          },
          "metadata": {
            "tags": []
          },
          "execution_count": 6
        }
      ]
    },
    {
      "cell_type": "code",
      "metadata": {
        "colab": {
          "base_uri": "https://localhost:8080/"
        },
        "id": "0Cc30IR9aUv0",
        "outputId": "7c69b472-75d6-494b-961f-67d8c70b9f53"
      },
      "source": [
        "X_val"
      ],
      "execution_count": 7,
      "outputs": [
        {
          "output_type": "execute_result",
          "data": {
            "text/plain": [
              "182258    fuck chemistry chemistry honestly go fuck hole...\n",
              "188097    b day dont know guy care last birth day teenag...\n",
              "221083    one read thisi get bad bad try commit suicide ...\n",
              "309503    found resource make call baby step right httpw...\n",
              "317025    random text post accident come today day hour ...\n",
              "                                ...                        \n",
              "158345    someone depression describe like do want know ...\n",
              "180634    feel lonely confusedalright really know start ...\n",
              "90579     im fuckedim lose mind im year old go cant list...\n",
              "125675    sick work every job shitshow unemployed ca bri...\n",
              "53591     wise word man help need depressed always expec...\n",
              "Name: text, Length: 87006, dtype: object"
            ]
          },
          "metadata": {
            "tags": []
          },
          "execution_count": 7
        }
      ]
    },
    {
      "cell_type": "code",
      "metadata": {
        "colab": {
          "base_uri": "https://localhost:8080/"
        },
        "id": "NrecDkUfZdfp",
        "outputId": "616713e6-8293-458d-d16d-b5ab8f89125b"
      },
      "source": [
        "pip install -U bert-serving-server bert-serving-client"
      ],
      "execution_count": null,
      "outputs": [
        {
          "output_type": "stream",
          "text": [
            "Collecting bert-serving-server\n",
            "\u001b[?25l  Downloading https://files.pythonhosted.org/packages/b0/bd/cab677bbd0c5fb08b72e468371d2bca6ed9507785739b4656b0b5470d90b/bert_serving_server-1.10.0-py3-none-any.whl (61kB)\n",
            "\r\u001b[K     |█████▎                          | 10kB 12.6MB/s eta 0:00:01\r\u001b[K     |██████████▋                     | 20kB 17.5MB/s eta 0:00:01\r\u001b[K     |████████████████                | 30kB 11.9MB/s eta 0:00:01\r\u001b[K     |█████████████████████▎          | 40kB 9.9MB/s eta 0:00:01\r\u001b[K     |██████████████████████████▋     | 51kB 5.4MB/s eta 0:00:01\r\u001b[K     |███████████████████████████████▉| 61kB 6.2MB/s eta 0:00:01\r\u001b[K     |████████████████████████████████| 71kB 4.1MB/s \n",
            "\u001b[?25hCollecting bert-serving-client\n",
            "  Downloading https://files.pythonhosted.org/packages/1f/09/aae1405378a848b2e87769ad89a43d6d71978c4e15534ca48e82e723a72f/bert_serving_client-1.10.0-py2.py3-none-any.whl\n",
            "Requirement already satisfied, skipping upgrade: pyzmq>=17.1.0 in /usr/local/lib/python3.7/dist-packages (from bert-serving-server) (22.0.3)\n",
            "Collecting GPUtil>=1.3.0\n",
            "  Downloading https://files.pythonhosted.org/packages/ed/0e/5c61eedde9f6c87713e89d794f01e378cfd9565847d4576fa627d758c554/GPUtil-1.4.0.tar.gz\n",
            "Requirement already satisfied, skipping upgrade: six in /usr/local/lib/python3.7/dist-packages (from bert-serving-server) (1.15.0)\n",
            "Requirement already satisfied, skipping upgrade: termcolor>=1.1 in /usr/local/lib/python3.7/dist-packages (from bert-serving-server) (1.1.0)\n",
            "Requirement already satisfied, skipping upgrade: numpy in /usr/local/lib/python3.7/dist-packages (from bert-serving-server) (1.19.5)\n",
            "Building wheels for collected packages: GPUtil\n",
            "  Building wheel for GPUtil (setup.py) ... \u001b[?25l\u001b[?25hdone\n",
            "  Created wheel for GPUtil: filename=GPUtil-1.4.0-cp37-none-any.whl size=7411 sha256=0d1a6628aebd605596911d5d8199d89515d5efb5bbb6b94260e74b0f113bc916\n",
            "  Stored in directory: /root/.cache/pip/wheels/3d/77/07/80562de4bb0786e5ea186911a2c831fdd0018bda69beab71fd\n",
            "Successfully built GPUtil\n",
            "Installing collected packages: GPUtil, bert-serving-server, bert-serving-client\n",
            "Successfully installed GPUtil-1.4.0 bert-serving-client-1.10.0 bert-serving-server-1.10.0\n"
          ],
          "name": "stdout"
        }
      ]
    },
    {
      "cell_type": "code",
      "metadata": {
        "colab": {
          "base_uri": "https://localhost:8080/"
        },
        "id": "XPED6N76ZeaH",
        "outputId": "d47c0e14-aa4e-4249-bc7a-3b7d4ea5f698"
      },
      "source": [
        "!wget https://storage.googleapis.com/bert_models/2018_10_18/uncased_L-12_H-768_A-12.zip && unzip uncased_L-12_H-768_A-12.zip"
      ],
      "execution_count": null,
      "outputs": [
        {
          "output_type": "stream",
          "text": [
            "--2021-05-17 08:23:16--  https://storage.googleapis.com/bert_models/2018_10_18/uncased_L-12_H-768_A-12.zip\n",
            "Resolving storage.googleapis.com (storage.googleapis.com)... 172.217.203.128, 142.250.98.128, 142.250.97.128, ...\n",
            "Connecting to storage.googleapis.com (storage.googleapis.com)|172.217.203.128|:443... connected.\n",
            "HTTP request sent, awaiting response... 200 OK\n",
            "Length: 407727028 (389M) [application/zip]\n",
            "Saving to: ‘uncased_L-12_H-768_A-12.zip’\n",
            "\n",
            "uncased_L-12_H-768_ 100%[===================>] 388.84M   201MB/s    in 1.9s    \n",
            "\n",
            "2021-05-17 08:23:18 (201 MB/s) - ‘uncased_L-12_H-768_A-12.zip’ saved [407727028/407727028]\n",
            "\n",
            "Archive:  uncased_L-12_H-768_A-12.zip\n",
            "   creating: uncased_L-12_H-768_A-12/\n",
            "  inflating: uncased_L-12_H-768_A-12/bert_model.ckpt.meta  \n",
            "  inflating: uncased_L-12_H-768_A-12/bert_model.ckpt.data-00000-of-00001  \n",
            "  inflating: uncased_L-12_H-768_A-12/vocab.txt  \n",
            "  inflating: uncased_L-12_H-768_A-12/bert_model.ckpt.index  \n",
            "  inflating: uncased_L-12_H-768_A-12/bert_config.json  \n"
          ],
          "name": "stdout"
        }
      ]
    },
    {
      "cell_type": "code",
      "metadata": {
        "id": "QdHFYKcGv0Eu"
      },
      "source": [
        "!nohup bert-serving-start -model_dir uncased_L-12_H-768_A-12/ -num_worker=2 -max_seq_len 512 > out.file 2>&1 &"
      ],
      "execution_count": null,
      "outputs": []
    },
    {
      "cell_type": "code",
      "metadata": {
        "id": "BIWSUJNTtV0W"
      },
      "source": [
        "from bert_serving.client import BertClient\n",
        "# make a connection with the BERT server using it's ip address\n",
        "bc = BertClient()\n",
        "# get the embedding for train and val sets\n",
        "# get the embedding\n",
        "embedding = bc.encode(['First do it', 'then do it right', 'then do it better'])\n",
        "# check the shape of embedding, it should be 3x768\n",
        "print(embedding)\n",
        "print(embedding.shape)\n"
      ],
      "execution_count": null,
      "outputs": []
    },
    {
      "cell_type": "code",
      "metadata": {
        "id": "eZNV0gsHHAD8",
        "colab": {
          "base_uri": "https://localhost:8080/",
          "height": 170,
          "referenced_widgets": [
            "ba6e72cb92194aaeb1bc4c841cc03963",
            "7e9c91855542421682efbcedfd1ac5ce",
            "408fec7a82bd4f149de94b418c68b4ff",
            "7f817963cc8d44ae9e86cb62094d2fe7",
            "e654dc25da3e44938f4c16dbaa6a8eae",
            "5abf4554a42e4d04aa201f40c6d44e69",
            "22cab7c4155f490590f29a9349b90b4d",
            "ca0380692adc479dbb2101b82bafef2f"
          ]
        },
        "outputId": "317786b6-17ca-4330-c9b3-08b795f3c68f"
      },
      "source": [
        "\n",
        "X_train_bert = []\n",
        "\n",
        "for i in tqdm(range(261018)):\n",
        "    temp = bc.encode(X_train[i:i+1].to_list())\n",
        "    X_train_bert.append(temp[0])\n",
        "X_train_bert = np.array(X_train_bert)\n",
        "\n",
        "import pickle\n",
        "\n",
        "with open('/content/gdrive/MyDrive/Colab Notebooks/trainSuicideAndDepression_DetectionBERTWordEmbeddings.data', 'wb') as filehandle:\n",
        "    # store the data as binary data stream\n",
        "    pickle.dump(X_train_bert, filehandle)\n"
      ],
      "execution_count": null,
      "outputs": [
        {
          "output_type": "display_data",
          "data": {
            "application/vnd.jupyter.widget-view+json": {
              "model_id": "ba6e72cb92194aaeb1bc4c841cc03963",
              "version_minor": 0,
              "version_major": 2
            },
            "text/plain": [
              "HBox(children=(FloatProgress(value=0.0, max=261018.0), HTML(value='')))"
            ]
          },
          "metadata": {
            "tags": []
          }
        },
        {
          "output_type": "stream",
          "text": [
            "/usr/local/lib/python3.7/dist-packages/bert_serving/client/__init__.py:299: UserWarning: some of your sentences have more tokens than \"max_seq_len=512\" set on the server, as consequence you may get less-accurate or truncated embeddings.\n",
            "here is what you can do:\n",
            "- disable the length-check by create a new \"BertClient(check_length=False)\" when you do not want to display this warning\n",
            "- or, start a new server with a larger \"max_seq_len\"\n",
            "  '- or, start a new server with a larger \"max_seq_len\"' % self.length_limit)\n"
          ],
          "name": "stderr"
        },
        {
          "output_type": "stream",
          "text": [
            "\n"
          ],
          "name": "stdout"
        }
      ]
    },
    {
      "cell_type": "code",
      "metadata": {
        "colab": {
          "base_uri": "https://localhost:8080/",
          "height": 153,
          "referenced_widgets": [
            "d37fd08caf094b61a438b6e026da6e86",
            "a35d559837884f7cb5f9f0137c9bdce6",
            "b9a79424034d4c5a9b1b841c4a89ff79",
            "6918d152539a49b4bb71a4d5533ae9dd",
            "f0042c65ddf74712b72775e10b810092",
            "2bb675284d5c4845b89eb37684618397",
            "7cd4a398878e45e383c93cf05231ba18",
            "7d794e50ade84b9b96585f510e4404b2"
          ]
        },
        "id": "iEwkBLFzpCJa",
        "outputId": "8d508ded-cad4-4d33-8b81-c0511f9dfbf7"
      },
      "source": [
        "X_val_bert = []\n",
        "\n",
        "for i in tqdm(range(87006)):\n",
        "    temp = bc.encode(X_val[i:i+1].to_list())\n",
        "    X_val_bert.append(temp[0])\n",
        "X_val_bert = np.array(X_val_bert)\n",
        "\n",
        "with open('/content/gdrive/MyDrive/Colab Notebooks/testSuicideAndDepression_DetectionBERTWordEmbeddings.data', 'wb') as filehandle:\n",
        "    # store the data as binary data stream\n",
        "    pickle.dump(X_val_bert, filehandle)"
      ],
      "execution_count": null,
      "outputs": [
        {
          "output_type": "display_data",
          "data": {
            "application/vnd.jupyter.widget-view+json": {
              "model_id": "d37fd08caf094b61a438b6e026da6e86",
              "version_minor": 0,
              "version_major": 2
            },
            "text/plain": [
              "HBox(children=(FloatProgress(value=0.0, max=87006.0), HTML(value='')))"
            ]
          },
          "metadata": {
            "tags": []
          }
        },
        {
          "output_type": "stream",
          "text": [
            "/usr/local/lib/python3.7/dist-packages/bert_serving/client/__init__.py:299: UserWarning: some of your sentences have more tokens than \"max_seq_len=512\" set on the server, as consequence you may get less-accurate or truncated embeddings.\n",
            "here is what you can do:\n",
            "- disable the length-check by create a new \"BertClient(check_length=False)\" when you do not want to display this warning\n",
            "- or, start a new server with a larger \"max_seq_len\"\n",
            "  '- or, start a new server with a larger \"max_seq_len\"' % self.length_limit)\n"
          ],
          "name": "stderr"
        }
      ]
    },
    {
      "cell_type": "code",
      "metadata": {
        "id": "PjwIQTZPovF1"
      },
      "source": [
        "\n",
        "with open('/content/gdrive/MyDrive/Colab Notebooks/trainSuicideAndDepression_DetectionBERTWordEmbeddings.data', 'rb') as filehandle:\n",
        "    # read the data as binary data stream\n",
        "    X_train_bert = pickle.load(filehandle)\n",
        "\n",
        "with open('/content/gdrive/MyDrive/Colab Notebooks/testSuicideAndDepression_DetectionBERTWordEmbeddings.data', 'rb') as filehandle:\n",
        "    # store the data as binary data stream\n",
        "    X_val_bert = pickle.load(filehandle)"
      ],
      "execution_count": 8,
      "outputs": []
    },
    {
      "cell_type": "code",
      "metadata": {
        "colab": {
          "base_uri": "https://localhost:8080/"
        },
        "id": "9__dgVJGLCRx",
        "outputId": "4ad86cdd-39f1-4fcd-d5a3-5ed9092d2901"
      },
      "source": [
        "print(X_train_bert)"
      ],
      "execution_count": 9,
      "outputs": [
        {
          "output_type": "stream",
          "text": [
            "[[-0.3179774   0.17453584  0.5170291  ... -0.7881806  -0.25709733\n",
            "   0.00385739]\n",
            " [ 0.24498028 -0.06635986  0.12903148 ... -0.47168267  0.05232501\n",
            "  -0.19207843]\n",
            " [-0.3478057   0.49102622  0.81172705 ... -0.8407974  -0.49174997\n",
            "  -0.18910503]\n",
            " ...\n",
            " [-0.3070692   0.2546062   0.7424636  ... -0.7569532  -0.30264077\n",
            "  -0.01356569]\n",
            " [-0.5746188   0.08246285  0.7418346  ... -0.5503757  -0.10338228\n",
            "  -0.35683793]\n",
            " [ 0.25714302  0.6005804   0.5426199  ... -0.7847218  -0.38745683\n",
            "  -0.29998747]]\n"
          ],
          "name": "stdout"
        }
      ]
    },
    {
      "cell_type": "code",
      "metadata": {
        "colab": {
          "base_uri": "https://localhost:8080/"
        },
        "id": "DuT-jcpKM2uG",
        "outputId": "93574fc1-1c1e-4096-dc9f-369742109669"
      },
      "source": [
        "print(X_val_bert.shape)\n",
        "print(X_val_bert)"
      ],
      "execution_count": 10,
      "outputs": [
        {
          "output_type": "stream",
          "text": [
            "(87006, 768)\n",
            "[[ 0.585339    1.0363818   0.64045656 ... -0.6225818  -0.13340841\n",
            "  -0.34627154]\n",
            " [-0.12839574  0.22486146  0.87340164 ... -1.2995867  -0.19449522\n",
            "  -0.633964  ]\n",
            " [-0.46718404  0.26355556  0.6910244  ... -1.0066607  -0.41251537\n",
            "  -0.34015918]\n",
            " ...\n",
            " [-0.28903404  0.63441694  0.6014907  ... -0.84442043 -0.39032087\n",
            "  -0.21951003]\n",
            " [-0.1503326   0.26507553  0.6809735  ... -0.6676791  -0.24228257\n",
            "  -0.3163622 ]\n",
            " [-0.09856147  0.01743699  0.9631243  ... -0.67891777 -0.41024834\n",
            "   0.10065776]]\n"
          ],
          "name": "stdout"
        }
      ]
    },
    {
      "cell_type": "code",
      "metadata": {
        "id": "7yTzLJKtZ5mk"
      },
      "source": [
        "#X_train_bert = bc.encode(X_train[:110].tolist())\n",
        "#X_val_bert = bc.encode(X_val[:10].tolist())\n",
        "#X_train_bert"
      ],
      "execution_count": 11,
      "outputs": []
    },
    {
      "cell_type": "code",
      "metadata": {
        "id": "J910ujx6Wjjh"
      },
      "source": [
        "X_train_bert = preprocessing.normalize(X_train_bert)\n",
        "X_val_bert = preprocessing.normalize(X_val_bert)"
      ],
      "execution_count": 12,
      "outputs": []
    },
    {
      "cell_type": "code",
      "metadata": {
        "id": "Nz4lgdzYCGaA"
      },
      "source": [
        "scaler_Xtrain_bert = preprocessing.StandardScaler().fit(X_train_bert)\n",
        "scaler_Xval_bert = preprocessing.StandardScaler().fit(X_val_bert)\n",
        "\n",
        "\n",
        "#scaler_Xtrain_bert.mean_\n",
        "#scaler_Xval_bert.mean_\n",
        "\n",
        "#scaler_Xtrain_bert.scale_\n",
        "#scaler_Xval_bert.scale_\n",
        "\n",
        "X_train_bert_scaled = scaler_Xtrain_bert.transform(X_train_bert)\n",
        "X_val_bert_scaled = scaler_Xval_bert.transform(X_val_bert)"
      ],
      "execution_count": 13,
      "outputs": []
    },
    {
      "cell_type": "code",
      "metadata": {
        "colab": {
          "base_uri": "https://localhost:8080/"
        },
        "id": "a4_lFiF9F__P",
        "outputId": "d3aada8c-b1f4-4213-cd35-b4196b0f6a17"
      },
      "source": [
        "X_train_bert_scaled"
      ],
      "execution_count": 14,
      "outputs": [
        {
          "output_type": "execute_result",
          "data": {
            "text/plain": [
              "array([[-0.84354264, -0.1865741 , -0.21970382, ..., -0.7828243 ,\n",
              "        -0.14398627,  1.195607  ],\n",
              "       [ 1.5857632 , -1.3060136 , -2.3423824 , ...,  0.3051776 ,\n",
              "         1.8832266 , -0.1269326 ],\n",
              "       [-0.60253716,  0.64486504,  0.26924437, ...,  0.02878136,\n",
              "        -0.8202379 ,  0.38349113],\n",
              "       ...,\n",
              "       [-0.610042  , -0.0087127 ,  0.4226926 , ..., -0.05385228,\n",
              "        -0.13354443,  1.1091273 ],\n",
              "       [-1.403291  , -0.6653925 ,  0.2221153 , ...,  0.919883  ,\n",
              "         0.9623119 , -0.436156  ],\n",
              "       [ 1.2547529 ,  1.2086799 , -0.64859706, ..., -0.06806116,\n",
              "        -0.52307975, -0.2123329 ]], dtype=float32)"
            ]
          },
          "metadata": {
            "tags": []
          },
          "execution_count": 14
        }
      ]
    },
    {
      "cell_type": "code",
      "metadata": {
        "colab": {
          "base_uri": "https://localhost:8080/"
        },
        "id": "pwwaYfv6GJkh",
        "outputId": "b32d96df-4c22-444f-9c79-7f498a10a70b"
      },
      "source": [
        "X_val_bert_scaled"
      ],
      "execution_count": 15,
      "outputs": [
        {
          "output_type": "execute_result",
          "data": {
            "text/plain": [
              "array([[ 2.1988223 ,  2.4995673 , -0.41305   , ...,  0.76582515,\n",
              "         0.84750724, -0.30187958],\n",
              "       [ 0.00886925, -0.1454295 ,  0.9263233 , ..., -2.1008368 ,\n",
              "         0.48203695, -1.7304783 ],\n",
              "       [-0.8929225 , -0.132767  , -0.3902918 , ..., -0.40468153,\n",
              "        -0.35984167, -0.18119378],\n",
              "       ...,\n",
              "       [-0.504752  ,  1.3003839 , -0.40925017, ..., -0.256922  ,\n",
              "        -0.5073169 ,  0.1736038 ],\n",
              "       [-0.04082346, -0.04345081, -0.14194691, ...,  0.5259699 ,\n",
              "         0.29098913, -0.2153894 ],\n",
              "       [ 0.12846711, -0.8947375 ,  1.0365644 , ...,  0.54990476,\n",
              "        -0.48564586,  1.5930755 ]], dtype=float32)"
            ]
          },
          "metadata": {
            "tags": []
          },
          "execution_count": 15
        }
      ]
    },
    {
      "cell_type": "code",
      "metadata": {
        "id": "-tBmK8Dkvar3"
      },
      "source": [
        "\n",
        "# LR model\n",
        "# make dual = True for solver = 'liblinear' \n",
        "lrModel = LogisticRegression(dual=False, max_iter=1000, solver='saga')\n",
        "\n",
        "# train\n",
        "start = time.time()                                \n",
        "lrModel.fit(X_train_bert[:210000], y_train[:210000])\n",
        "end = time.time()\n",
        "\n",
        "# predict\n",
        "lrPred = lrModel.predict(X_val_bert)"
      ],
      "execution_count": null,
      "outputs": []
    },
    {
      "cell_type": "code",
      "metadata": {
        "id": "9MUB2pCHA2gf"
      },
      "source": [
        "print(accuracy_score(y_val, lrPred))\n",
        "print(end-start)"
      ],
      "execution_count": null,
      "outputs": []
    },
    {
      "cell_type": "code",
      "metadata": {
        "id": "xm-fcfF6yNWD",
        "colab": {
          "base_uri": "https://localhost:8080/"
        },
        "outputId": "9f762a27-9f22-4e41-8ce2-f4c66b5d26c2"
      },
      "source": [
        "print(f1_score(y_val, lrPred, average='micro'))"
      ],
      "execution_count": null,
      "outputs": [
        {
          "output_type": "stream",
          "text": [
            "0.7820610072868538\n"
          ],
          "name": "stdout"
        }
      ]
    },
    {
      "cell_type": "code",
      "metadata": {
        "id": "UtRqmtr5ZKAL"
      },
      "source": [
        "np.set_printoptions(precision=2)\n",
        "class_names = ['depression', 'SuicideWatch','teenagers']\n",
        "\n",
        "# Plot non-normalized confusion matrix\n",
        "titles_options = [(\"Confusion matrix, without normalization\", None),\n",
        "                  (\"Normalized confusion matrix\", 'true')]"
      ],
      "execution_count": null,
      "outputs": []
    },
    {
      "cell_type": "code",
      "metadata": {
        "id": "rLsgg8CezaNV",
        "colab": {
          "base_uri": "https://localhost:8080/",
          "height": 707
        },
        "outputId": "6b502f7f-160e-4ed6-964d-3e0c60e8c9e2"
      },
      "source": [
        "for title, normalize in titles_options:\n",
        "\n",
        "    disp = plot_confusion_matrix(lrMmodel, X_val_bert_scaled, y_val,\n",
        "                                 display_labels=class_names,\n",
        "                                 cmap=plt.cm.Blues,\n",
        "                                 normalize=normalize)\n",
        "    disp.ax_.set_title(title)\n",
        "\n",
        "    print(title)\n",
        "    print(disp.confusion_matrix)\n",
        "\n",
        "plt.show()"
      ],
      "execution_count": null,
      "outputs": [
        {
          "output_type": "stream",
          "text": [
            "Confusion matrix, without normalization\n",
            "[[20442  6822  1533]\n",
            " [ 5975 21575  1543]\n",
            " [ 1544  1545 26027]]\n",
            "Normalized confusion matrix\n",
            "[[0.71 0.24 0.05]\n",
            " [0.21 0.74 0.05]\n",
            " [0.05 0.05 0.89]]\n"
          ],
          "name": "stdout"
        },
        {
          "output_type": "display_data",
          "data": {
            "image/png": "[encoded data removed]",
            "text/plain": [
              "<Figure size 432x288 with 2 Axes>"
            ]
          },
          "metadata": {
            "tags": [],
            "needs_background": "light"
          }
        },
        {
          "output_type": "display_data",
          "data": {
            "image/png": "[encoded data removed]",
            "text/plain": [
              "<Figure size 432x288 with 2 Axes>"
            ]
          },
          "metadata": {
            "tags": [],
            "needs_background": "light"
          }
        }
      ]
    },
    {
      "cell_type": "code",
      "metadata": {
        "id": "n_ovojhpwlwD"
      },
      "source": [
        "# SVM model\n",
        "svmModel = svm.SVC(kernel = 'linear', C=10, cache_size=700)\n",
        "\n",
        "#train\n",
        "start = time.time()\n",
        "svmModel.fit(X_train_bert_scaled[:50000], y_train[:50000]);\n",
        "end = time.time()\n",
        "\n",
        "#predict\n",
        "svmPred = svmModel.predict(X_val_bert_scaled)"
      ],
      "execution_count": null,
      "outputs": []
    },
    {
      "cell_type": "code",
      "metadata": {
        "id": "KQPBRBq0YfE2"
      },
      "source": [
        "print(accuracy_score(y_val, svmPred))\n",
        "print(end-start)"
      ],
      "execution_count": null,
      "outputs": []
    },
    {
      "cell_type": "code",
      "metadata": {
        "id": "SG98V-XFaKC2"
      },
      "source": [
        "print(f1_score(y_val, lrPred, average='micro'))"
      ],
      "execution_count": null,
      "outputs": []
    },
    {
      "cell_type": "code",
      "metadata": {
        "id": "yWPj3_3IaNBi"
      },
      "source": [
        "for title, normalize in titles_options:\n",
        "\n",
        "    disp = plot_confusion_matrix(svmMmodel, X_val_bert_scaled, y_val,\n",
        "                                 display_labels=class_names,\n",
        "                                 cmap=plt.cm.Blues,\n",
        "                                 normalize=normalize)\n",
        "    disp.ax_.set_title(title)\n",
        "\n",
        "    print(title)\n",
        "    print(disp.confusion_matrix)\n",
        "\n",
        "plt.show()"
      ],
      "execution_count": null,
      "outputs": []
    },
    {
      "cell_type": "code",
      "metadata": {
        "id": "JGpZCGQPXDF8"
      },
      "source": [
        "nbModel = GaussianNB()\n",
        "\n",
        "start = time.time()\n",
        "nbModel.fit(X_train_bert_scaled, y_train)\n",
        "end = time.time()\n",
        "\n",
        "nbPred = nbModel.predict(X_val_bert_scaled)"
      ],
      "execution_count": null,
      "outputs": []
    },
    {
      "cell_type": "code",
      "metadata": {
        "colab": {
          "base_uri": "https://localhost:8080/"
        },
        "id": "iIFmaqrNXDnM",
        "outputId": "d316e837-de95-4754-d0ef-8602724e8ba2"
      },
      "source": [
        "print(accuracy_score(y_val, nbPred))\n",
        "print(end-start)"
      ],
      "execution_count": null,
      "outputs": [
        {
          "output_type": "stream",
          "text": [
            "0.6205778911799186\n",
            "3.8255434036254883\n"
          ],
          "name": "stdout"
        }
      ]
    },
    {
      "cell_type": "code",
      "metadata": {
        "colab": {
          "base_uri": "https://localhost:8080/",
          "height": 707
        },
        "id": "_raKYDP_YuZK",
        "outputId": "054de122-8fdf-45e7-cab7-5871d1d44a95"
      },
      "source": [
        "for title, normalize in titles_options:\n",
        "\n",
        "    disp = plot_confusion_matrix(nbModel, X_val_bert_scaled, y_val,\n",
        "                                 display_labels=class_names,\n",
        "                                 cmap=plt.cm.Blues,\n",
        "                                 normalize=normalize)\n",
        "    disp.ax_.set_title(title)\n",
        "\n",
        "    print(title)\n",
        "    print(disp.confusion_matrix)\n",
        "\n",
        "plt.show()"
      ],
      "execution_count": null,
      "outputs": [
        {
          "output_type": "stream",
          "text": [
            "Confusion matrix, without normalization\n",
            "[[ 9559 13637  5601]\n",
            " [ 3902 21190  4001]\n",
            " [ 2884  2987 23245]]\n",
            "Normalized confusion matrix\n",
            "[[0.33 0.47 0.19]\n",
            " [0.13 0.73 0.14]\n",
            " [0.1  0.1  0.8 ]]\n"
          ],
          "name": "stdout"
        },
        {
          "output_type": "display_data",
          "data": {
            "image/png": "[encoded data removed]",
            "text/plain": [
              "<Figure size 432x288 with 2 Axes>"
            ]
          },
          "metadata": {
            "tags": [],
            "needs_background": "light"
          }
        },
        {
          "output_type": "display_data",
          "data": {
            "image/png": "[encoded data removed]",
            "text/plain": [
              "<Figure size 432x288 with 2 Axes>"
            ]
          },
          "metadata": {
            "tags": [],
            "needs_background": "light"
          }
        }
      ]
    },
    {
      "cell_type": "code",
      "metadata": {
        "id": "XCXYSykgY7Hf"
      },
      "source": [
        "knnModel = KNeighborsClassifier(n_neighbors = 55, p=2, leaf_size= 100)\n",
        "\n",
        "start = time.time()\n",
        "knnModel.fit(X_train_bert_scaled, y_train)\n",
        "end = time.time()\n",
        "\n",
        "knnPred = knnModel.predict(X_val_bert_scaled[:20000])"
      ],
      "execution_count": null,
      "outputs": []
    },
    {
      "cell_type": "code",
      "metadata": {
        "id": "h-x_RUsphVq9"
      },
      "source": [
        "print(accuracy_score(y_val[:20000], knnPred))\n",
        "print(end-start)"
      ],
      "execution_count": null,
      "outputs": []
    },
    {
      "cell_type": "code",
      "metadata": {
        "id": "11wsyhnghai6"
      },
      "source": [
        "for title, normalize in titles_options:\n",
        "\n",
        "    disp = plot_confusion_matrix(knnModel, X_val_bert_scaled, y_val,\n",
        "                                 display_labels=class_names,\n",
        "                                 cmap=plt.cm.Blues,\n",
        "                                 normalize=normalize)\n",
        "    disp.ax_.set_title(title)\n",
        "\n",
        "    print(title)\n",
        "    print(disp.confusion_matrix)\n",
        "\n",
        "plt.show()"
      ],
      "execution_count": null,
      "outputs": []
    },
    {
      "cell_type": "code",
      "metadata": {
        "id": "cJBKh7HblX5Z"
      },
      "source": [
        "knnModel = KNeighborsClassifier(n_neighbors = 55, p=2, leaf_size= 100)\n",
        "\n",
        "start = time.time()\n",
        "knnModel.fit(X_train_bert_scaled, y_train)\n",
        "end = time.time()\n",
        "\n",
        "knnPred = knnModel.predict(X_val_bert_scaled)"
      ],
      "execution_count": null,
      "outputs": []
    },
    {
      "cell_type": "code",
      "metadata": {
        "id": "LHBBEzfqlcoY"
      },
      "source": [
        "print(accuracy_score(y_val, knnPred))\n",
        "print(end-start)"
      ],
      "execution_count": null,
      "outputs": []
    },
    {
      "cell_type": "code",
      "metadata": {
        "id": "9i0mJ0ullfSb"
      },
      "source": [
        "for title, normalize in titles_options:\n",
        "\n",
        "    disp = plot_confusion_matrix(knnModel, X_val_bert_scaled, y_val,\n",
        "                                 display_labels=class_names,\n",
        "                                 cmap=plt.cm.Blues,\n",
        "                                 normalize=normalize)\n",
        "    disp.ax_.set_title(title)\n",
        "\n",
        "    print(title)\n",
        "    print(disp.confusion_matrix)\n",
        "\n",
        "plt.show()"
      ],
      "execution_count": null,
      "outputs": []
    },
    {
      "cell_type": "code",
      "metadata": {
        "id": "EW9Vlr-9h5PK"
      },
      "source": [
        "from sklearn.svm import LinearSVC\n",
        "\n",
        "linearSvmModel = LinearSVC(dual=False, max_iter=2000)\n",
        "\n",
        "start = time.time()\n",
        "linearSvmModel.fit(X_train_bert,y_train)\n",
        "end = time.time()\n",
        "\n",
        "linearSvmPred = linearSvmModel.predict(X_val_bert)"
      ],
      "execution_count": null,
      "outputs": []
    },
    {
      "cell_type": "code",
      "metadata": {
        "colab": {
          "base_uri": "https://localhost:8080/"
        },
        "id": "UpDww2N-iBwl",
        "outputId": "afb2a60e-64cb-428a-9362-f11e5f44c0c3"
      },
      "source": [
        "print(accuracy_score(y_val, linearSvmPred))\n",
        "print(end-start)"
      ],
      "execution_count": null,
      "outputs": [
        {
          "output_type": "stream",
          "text": [
            "0.7789347861067053\n",
            "335.70783376693726\n"
          ],
          "name": "stdout"
        }
      ]
    },
    {
      "cell_type": "code",
      "metadata": {
        "colab": {
          "base_uri": "https://localhost:8080/",
          "height": 707
        },
        "id": "1pOUyAtqiJPA",
        "outputId": "f5717e49-220f-426e-ab8f-eee4f6022674"
      },
      "source": [
        "for title, normalize in titles_options:\n",
        "\n",
        "    disp = plot_confusion_matrix(linearSvmModel, X_val_bert, y_val,\n",
        "                                 display_labels=class_names,\n",
        "                                 cmap=plt.cm.Blues,\n",
        "                                 normalize=normalize)\n",
        "    disp.ax_.set_title(title)\n",
        "\n",
        "    print(title)\n",
        "    print(disp.confusion_matrix)\n",
        "\n",
        "plt.show()"
      ],
      "execution_count": null,
      "outputs": [
        {
          "output_type": "stream",
          "text": [
            "Confusion matrix, without normalization\n",
            "[[20017  7059  1721]\n",
            " [ 5793 21542  1758]\n",
            " [ 1431  1472 26213]]\n",
            "Normalized confusion matrix\n",
            "[[0.7  0.25 0.06]\n",
            " [0.2  0.74 0.06]\n",
            " [0.05 0.05 0.9 ]]\n"
          ],
          "name": "stdout"
        },
        {
          "output_type": "display_data",
          "data": {
            "image/png": "[encoded data removed]",
            "text/plain": [
              "<Figure size 432x288 with 2 Axes>"
            ]
          },
          "metadata": {
            "tags": [],
            "needs_background": "light"
          }
        },
        {
          "output_type": "display_data",
          "data": {
            "image/png": "[encoded data removed]",
            "text/plain": [
              "<Figure size 432x288 with 2 Axes>"
            ]
          },
          "metadata": {
            "tags": [],
            "needs_background": "light"
          }
        }
      ]
    },
    {
      "cell_type": "code",
      "metadata": {
        "id": "ETTEdcm9i5bl"
      },
      "source": [
        "print(f1_score(y_val, linearSvmPred, average='micro'))"
      ],
      "execution_count": null,
      "outputs": []
    },
    {
      "cell_type": "code",
      "metadata": {
        "colab": {
          "base_uri": "https://localhost:8080/"
        },
        "id": "t0WEUGumnPSH",
        "outputId": "8555fb34-af31-41b8-f51f-e06cf8331d4c"
      },
      "source": [
        "X_train_bert_scaled.shape[1]"
      ],
      "execution_count": 16,
      "outputs": [
        {
          "output_type": "execute_result",
          "data": {
            "text/plain": [
              "768"
            ]
          },
          "metadata": {
            "tags": []
          },
          "execution_count": 16
        }
      ]
    },
    {
      "cell_type": "code",
      "metadata": {
        "id": "3JFojZDl0Fsy"
      },
      "source": [
        "from keras.models import Sequential\n",
        "from keras import layers\n",
        "\n",
        "input_dim = X_train_bert_scaled.shape[1]  # Number of features\n",
        "\n",
        "model = Sequential()\n",
        "model.add(layers.Flatten())\n",
        "model.add(layers.Dense(256, input_dim=input_dim, activation='relu'))\n",
        "model.add(layers.Dropout(0.5))\n",
        "model.add(layers.Dense(128, input_dim=input_dim, activation='relu'))\n",
        "model.add(layers.Dropout(0.5))\n",
        "model.add(layers.Dense(64, input_dim=input_dim, activation='relu'))\n",
        "model.add(layers.Dropout(0.2))\n",
        "model.add(layers.Dense(3, activation='softmax'))\n",
        "\n",
        "model.compile(loss='categorical_crossentropy', \n",
        "              optimizer='adam', \n",
        "              metrics=['accuracy'])\n",
        "#model.summary()"
      ],
      "execution_count": 16,
      "outputs": []
    },
    {
      "cell_type": "code",
      "metadata": {
        "id": "eNE7oQSEIHSf"
      },
      "source": [
        "y_train1 = y_train\n",
        "y_val1 = y_val"
      ],
      "execution_count": 17,
      "outputs": []
    },
    {
      "cell_type": "code",
      "metadata": {
        "id": "0kary9J280-x"
      },
      "source": [
        "from sklearn.preprocessing import LabelEncoder\n",
        "from sklearn.preprocessing import OneHotEncoder\n",
        "from sklearn.preprocessing import LabelBinarizer\n",
        "\n",
        "y_train = np.array(y_train1)\n",
        "y_val = np.array(y_val1)\n",
        "y_train = y_train.reshape(len(y_train),1)\n",
        "y_val = y_val.reshape(len(y_val),1)\n",
        "y_train = LabelBinarizer().fit_transform(y_train)\n",
        "y_val = LabelBinarizer().fit_transform(y_val)\n"
      ],
      "execution_count": 18,
      "outputs": []
    },
    {
      "cell_type": "code",
      "metadata": {
        "colab": {
          "base_uri": "https://localhost:8080/"
        },
        "id": "JQVyknxaDQH0",
        "outputId": "e435a85d-9e97-4600-87bd-0f1fd2d5d538"
      },
      "source": [
        "y_train"
      ],
      "execution_count": 19,
      "outputs": [
        {
          "output_type": "execute_result",
          "data": {
            "text/plain": [
              "array([[1, 0, 0],\n",
              "       [0, 0, 1],\n",
              "       [0, 1, 0],\n",
              "       ...,\n",
              "       [1, 0, 0],\n",
              "       [0, 1, 0],\n",
              "       [0, 1, 0]])"
            ]
          },
          "metadata": {
            "tags": []
          },
          "execution_count": 19
        }
      ]
    },
    {
      "cell_type": "code",
      "metadata": {
        "colab": {
          "base_uri": "https://localhost:8080/"
        },
        "id": "5WyEkm9VEkas",
        "outputId": "337dfb13-76d7-4829-d820-e570181b53d3"
      },
      "source": [
        "y_val"
      ],
      "execution_count": 20,
      "outputs": [
        {
          "output_type": "execute_result",
          "data": {
            "text/plain": [
              "array([[0, 0, 1],\n",
              "       [0, 0, 1],\n",
              "       [0, 1, 0],\n",
              "       ...,\n",
              "       [1, 0, 0],\n",
              "       [0, 1, 0],\n",
              "       [0, 1, 0]])"
            ]
          },
          "metadata": {
            "tags": []
          },
          "execution_count": 20
        }
      ]
    },
    {
      "cell_type": "code",
      "metadata": {
        "colab": {
          "base_uri": "https://localhost:8080/"
        },
        "id": "xZq72NZ035ZW",
        "outputId": "bacdf1ee-3b4c-4443-ef6e-f88b56d7a29f"
      },
      "source": [
        "from keras import callbacks\n",
        "earlyStopping = callbacks.EarlyStopping(monitor='val_loss', patience=12)\n",
        "modelCheckpoint = callbacks.ModelCheckpoint('saved_model.hdf5', save_best_only=True, monitor='val_loss', mode='min')\n",
        "#reduce_lr = callbacks.ReduceLROnPlateau(monitor='val_loss', factor=0.8,patience=10, min_lr=0.001)\n",
        "history = model.fit(X_train_bert_scaled, y_train,\n",
        "                    epochs=80,\n",
        "                    validation_data=(X_val_bert_scaled, y_val),\n",
        "                    batch_size=10000, callbacks=[earlyStopping, modelCheckpoint])"
      ],
      "execution_count": 22,
      "outputs": [
        {
          "output_type": "stream",
          "text": [
            "Epoch 1/80\n",
            "27/27 [==============================] - 8s 255ms/step - loss: 1.0332 - accuracy: 0.5472 - val_loss: 0.6119 - val_accuracy: 0.7423\n",
            "Epoch 2/80\n",
            "27/27 [==============================] - 7s 246ms/step - loss: 0.6558 - accuracy: 0.7140 - val_loss: 0.5796 - val_accuracy: 0.7605\n",
            "Epoch 3/80\n",
            "27/27 [==============================] - 7s 246ms/step - loss: 0.6081 - accuracy: 0.7399 - val_loss: 0.5654 - val_accuracy: 0.7665\n",
            "Epoch 4/80\n",
            "27/27 [==============================] - 7s 245ms/step - loss: 0.5852 - accuracy: 0.7519 - val_loss: 0.5551 - val_accuracy: 0.7720\n",
            "Epoch 5/80\n",
            "27/27 [==============================] - 7s 245ms/step - loss: 0.5694 - accuracy: 0.7587 - val_loss: 0.5459 - val_accuracy: 0.7744\n",
            "Epoch 6/80\n",
            "27/27 [==============================] - 7s 245ms/step - loss: 0.5580 - accuracy: 0.7636 - val_loss: 0.5417 - val_accuracy: 0.7767\n",
            "Epoch 7/80\n",
            "27/27 [==============================] - 7s 245ms/step - loss: 0.5462 - accuracy: 0.7689 - val_loss: 0.5373 - val_accuracy: 0.7803\n",
            "Epoch 8/80\n",
            "27/27 [==============================] - 7s 244ms/step - loss: 0.5418 - accuracy: 0.7719 - val_loss: 0.5295 - val_accuracy: 0.7795\n",
            "Epoch 9/80\n",
            "27/27 [==============================] - 7s 246ms/step - loss: 0.5362 - accuracy: 0.7739 - val_loss: 0.5240 - val_accuracy: 0.7831\n",
            "Epoch 10/80\n",
            "27/27 [==============================] - 7s 245ms/step - loss: 0.5288 - accuracy: 0.7760 - val_loss: 0.5231 - val_accuracy: 0.7844\n",
            "Epoch 11/80\n",
            "27/27 [==============================] - 7s 244ms/step - loss: 0.5266 - accuracy: 0.7758 - val_loss: 0.5178 - val_accuracy: 0.7856\n",
            "Epoch 12/80\n",
            "27/27 [==============================] - 7s 245ms/step - loss: 0.5194 - accuracy: 0.7801 - val_loss: 0.5125 - val_accuracy: 0.7853\n",
            "Epoch 13/80\n",
            "27/27 [==============================] - 7s 247ms/step - loss: 0.5197 - accuracy: 0.7796 - val_loss: 0.5108 - val_accuracy: 0.7883\n",
            "Epoch 14/80\n",
            "27/27 [==============================] - 7s 247ms/step - loss: 0.5139 - accuracy: 0.7820 - val_loss: 0.5085 - val_accuracy: 0.7883\n",
            "Epoch 15/80\n",
            "27/27 [==============================] - 7s 245ms/step - loss: 0.5113 - accuracy: 0.7823 - val_loss: 0.5051 - val_accuracy: 0.7906\n",
            "Epoch 16/80\n",
            "27/27 [==============================] - 7s 245ms/step - loss: 0.5082 - accuracy: 0.7849 - val_loss: 0.5009 - val_accuracy: 0.7911\n",
            "Epoch 17/80\n",
            "27/27 [==============================] - 7s 245ms/step - loss: 0.5077 - accuracy: 0.7849 - val_loss: 0.5016 - val_accuracy: 0.7906\n",
            "Epoch 18/80\n",
            "27/27 [==============================] - 7s 245ms/step - loss: 0.5049 - accuracy: 0.7862 - val_loss: 0.5004 - val_accuracy: 0.7916\n",
            "Epoch 19/80\n",
            "27/27 [==============================] - 7s 245ms/step - loss: 0.5016 - accuracy: 0.7877 - val_loss: 0.4974 - val_accuracy: 0.7927\n",
            "Epoch 20/80\n",
            "27/27 [==============================] - 7s 246ms/step - loss: 0.4994 - accuracy: 0.7880 - val_loss: 0.4958 - val_accuracy: 0.7911\n",
            "Epoch 21/80\n",
            "27/27 [==============================] - 7s 248ms/step - loss: 0.4977 - accuracy: 0.7891 - val_loss: 0.4944 - val_accuracy: 0.7954\n",
            "Epoch 22/80\n",
            "27/27 [==============================] - 7s 246ms/step - loss: 0.4964 - accuracy: 0.7887 - val_loss: 0.4936 - val_accuracy: 0.7934\n",
            "Epoch 23/80\n",
            "27/27 [==============================] - 7s 246ms/step - loss: 0.4940 - accuracy: 0.7908 - val_loss: 0.4922 - val_accuracy: 0.7937\n",
            "Epoch 24/80\n",
            "27/27 [==============================] - 7s 245ms/step - loss: 0.4912 - accuracy: 0.7918 - val_loss: 0.4884 - val_accuracy: 0.7940\n",
            "Epoch 25/80\n",
            "27/27 [==============================] - 7s 246ms/step - loss: 0.4891 - accuracy: 0.7918 - val_loss: 0.4903 - val_accuracy: 0.7956\n",
            "Epoch 26/80\n",
            "27/27 [==============================] - 7s 245ms/step - loss: 0.4912 - accuracy: 0.7918 - val_loss: 0.4864 - val_accuracy: 0.7957\n",
            "Epoch 27/80\n",
            "27/27 [==============================] - 7s 244ms/step - loss: 0.4860 - accuracy: 0.7934 - val_loss: 0.4851 - val_accuracy: 0.7959\n",
            "Epoch 28/80\n",
            "27/27 [==============================] - 7s 246ms/step - loss: 0.4852 - accuracy: 0.7942 - val_loss: 0.4851 - val_accuracy: 0.7966\n",
            "Epoch 29/80\n",
            "27/27 [==============================] - 7s 244ms/step - loss: 0.4850 - accuracy: 0.7940 - val_loss: 0.4855 - val_accuracy: 0.7968\n",
            "Epoch 30/80\n",
            "27/27 [==============================] - 7s 244ms/step - loss: 0.4835 - accuracy: 0.7941 - val_loss: 0.4848 - val_accuracy: 0.7981\n",
            "Epoch 31/80\n",
            "27/27 [==============================] - 7s 245ms/step - loss: 0.4790 - accuracy: 0.7967 - val_loss: 0.4810 - val_accuracy: 0.7978\n",
            "Epoch 32/80\n",
            "27/27 [==============================] - 7s 247ms/step - loss: 0.4788 - accuracy: 0.7970 - val_loss: 0.4825 - val_accuracy: 0.7967\n",
            "Epoch 33/80\n",
            "27/27 [==============================] - 7s 244ms/step - loss: 0.4770 - accuracy: 0.7970 - val_loss: 0.4811 - val_accuracy: 0.7985\n",
            "Epoch 34/80\n",
            "27/27 [==============================] - 7s 245ms/step - loss: 0.4739 - accuracy: 0.7992 - val_loss: 0.4797 - val_accuracy: 0.7989\n",
            "Epoch 35/80\n",
            "27/27 [==============================] - 7s 245ms/step - loss: 0.4756 - accuracy: 0.7973 - val_loss: 0.4808 - val_accuracy: 0.7985\n",
            "Epoch 36/80\n",
            "27/27 [==============================] - 7s 245ms/step - loss: 0.4746 - accuracy: 0.7987 - val_loss: 0.4773 - val_accuracy: 0.7976\n",
            "Epoch 37/80\n",
            "27/27 [==============================] - 7s 246ms/step - loss: 0.4705 - accuracy: 0.8004 - val_loss: 0.4801 - val_accuracy: 0.7995\n",
            "Epoch 38/80\n",
            "27/27 [==============================] - 7s 244ms/step - loss: 0.4713 - accuracy: 0.8005 - val_loss: 0.4782 - val_accuracy: 0.7994\n",
            "Epoch 39/80\n",
            "27/27 [==============================] - 7s 245ms/step - loss: 0.4682 - accuracy: 0.8010 - val_loss: 0.4753 - val_accuracy: 0.7997\n",
            "Epoch 40/80\n",
            "27/27 [==============================] - 7s 244ms/step - loss: 0.4655 - accuracy: 0.8025 - val_loss: 0.4753 - val_accuracy: 0.8004\n",
            "Epoch 41/80\n",
            "27/27 [==============================] - 7s 244ms/step - loss: 0.4661 - accuracy: 0.8026 - val_loss: 0.4794 - val_accuracy: 0.7989\n",
            "Epoch 42/80\n",
            "27/27 [==============================] - 7s 244ms/step - loss: 0.4646 - accuracy: 0.8022 - val_loss: 0.4764 - val_accuracy: 0.7991\n",
            "Epoch 43/80\n",
            "27/27 [==============================] - 7s 245ms/step - loss: 0.4613 - accuracy: 0.8037 - val_loss: 0.4749 - val_accuracy: 0.7995\n",
            "Epoch 44/80\n",
            "27/27 [==============================] - 7s 244ms/step - loss: 0.4657 - accuracy: 0.8012 - val_loss: 0.4740 - val_accuracy: 0.8005\n",
            "Epoch 45/80\n",
            "27/27 [==============================] - 7s 246ms/step - loss: 0.4588 - accuracy: 0.8056 - val_loss: 0.4731 - val_accuracy: 0.8007\n",
            "Epoch 46/80\n",
            "27/27 [==============================] - 7s 245ms/step - loss: 0.4597 - accuracy: 0.8056 - val_loss: 0.4747 - val_accuracy: 0.7999\n",
            "Epoch 47/80\n",
            "27/27 [==============================] - 7s 247ms/step - loss: 0.4605 - accuracy: 0.8041 - val_loss: 0.4710 - val_accuracy: 0.7996\n",
            "Epoch 48/80\n",
            "27/27 [==============================] - 7s 246ms/step - loss: 0.4572 - accuracy: 0.8070 - val_loss: 0.4746 - val_accuracy: 0.8002\n",
            "Epoch 49/80\n",
            "27/27 [==============================] - 7s 246ms/step - loss: 0.4576 - accuracy: 0.8062 - val_loss: 0.4713 - val_accuracy: 0.8009\n",
            "Epoch 50/80\n",
            "27/27 [==============================] - 7s 246ms/step - loss: 0.4586 - accuracy: 0.8047 - val_loss: 0.4727 - val_accuracy: 0.8003\n",
            "Epoch 51/80\n",
            "27/27 [==============================] - 7s 245ms/step - loss: 0.4524 - accuracy: 0.8085 - val_loss: 0.4719 - val_accuracy: 0.8009\n",
            "Epoch 52/80\n",
            "27/27 [==============================] - 7s 244ms/step - loss: 0.4552 - accuracy: 0.8061 - val_loss: 0.4697 - val_accuracy: 0.8007\n",
            "Epoch 53/80\n",
            "27/27 [==============================] - 7s 245ms/step - loss: 0.4550 - accuracy: 0.8070 - val_loss: 0.4734 - val_accuracy: 0.7998\n",
            "Epoch 54/80\n",
            "27/27 [==============================] - 7s 244ms/step - loss: 0.4523 - accuracy: 0.8078 - val_loss: 0.4736 - val_accuracy: 0.7992\n",
            "Epoch 55/80\n",
            "27/27 [==============================] - 7s 245ms/step - loss: 0.4551 - accuracy: 0.8066 - val_loss: 0.4693 - val_accuracy: 0.8010\n",
            "Epoch 56/80\n",
            "27/27 [==============================] - 7s 246ms/step - loss: 0.4495 - accuracy: 0.8092 - val_loss: 0.4688 - val_accuracy: 0.8015\n",
            "Epoch 57/80\n",
            "27/27 [==============================] - 7s 245ms/step - loss: 0.4492 - accuracy: 0.8090 - val_loss: 0.4695 - val_accuracy: 0.8012\n",
            "Epoch 58/80\n",
            "27/27 [==============================] - 7s 245ms/step - loss: 0.4497 - accuracy: 0.8074 - val_loss: 0.4680 - val_accuracy: 0.8011\n",
            "Epoch 59/80\n",
            "27/27 [==============================] - 7s 246ms/step - loss: 0.4485 - accuracy: 0.8095 - val_loss: 0.4696 - val_accuracy: 0.8015\n",
            "Epoch 60/80\n",
            "27/27 [==============================] - 7s 244ms/step - loss: 0.4455 - accuracy: 0.8104 - val_loss: 0.4675 - val_accuracy: 0.8007\n",
            "Epoch 61/80\n",
            "27/27 [==============================] - 7s 247ms/step - loss: 0.4417 - accuracy: 0.8124 - val_loss: 0.4697 - val_accuracy: 0.8010\n",
            "Epoch 62/80\n",
            "27/27 [==============================] - 7s 244ms/step - loss: 0.4434 - accuracy: 0.8102 - val_loss: 0.4672 - val_accuracy: 0.8017\n",
            "Epoch 63/80\n",
            "27/27 [==============================] - 7s 246ms/step - loss: 0.4414 - accuracy: 0.8125 - val_loss: 0.4691 - val_accuracy: 0.8002\n",
            "Epoch 64/80\n",
            "27/27 [==============================] - 7s 246ms/step - loss: 0.4413 - accuracy: 0.8129 - val_loss: 0.4699 - val_accuracy: 0.8009\n",
            "Epoch 65/80\n",
            "27/27 [==============================] - 7s 244ms/step - loss: 0.4402 - accuracy: 0.8134 - val_loss: 0.4683 - val_accuracy: 0.8010\n",
            "Epoch 66/80\n",
            "27/27 [==============================] - 7s 245ms/step - loss: 0.4401 - accuracy: 0.8127 - val_loss: 0.4697 - val_accuracy: 0.8008\n",
            "Epoch 67/80\n",
            "27/27 [==============================] - 7s 245ms/step - loss: 0.4397 - accuracy: 0.8120 - val_loss: 0.4681 - val_accuracy: 0.8018\n",
            "Epoch 68/80\n",
            "27/27 [==============================] - 7s 244ms/step - loss: 0.4371 - accuracy: 0.8147 - val_loss: 0.4672 - val_accuracy: 0.8011\n",
            "Epoch 69/80\n",
            "27/27 [==============================] - 7s 245ms/step - loss: 0.4375 - accuracy: 0.8142 - val_loss: 0.4673 - val_accuracy: 0.8011\n",
            "Epoch 70/80\n",
            "27/27 [==============================] - 7s 244ms/step - loss: 0.4362 - accuracy: 0.8133 - val_loss: 0.4664 - val_accuracy: 0.8017\n",
            "Epoch 71/80\n",
            "27/27 [==============================] - 7s 246ms/step - loss: 0.4342 - accuracy: 0.8145 - val_loss: 0.4688 - val_accuracy: 0.8012\n",
            "Epoch 72/80\n",
            "27/27 [==============================] - 7s 244ms/step - loss: 0.4343 - accuracy: 0.8157 - val_loss: 0.4668 - val_accuracy: 0.8024\n",
            "Epoch 73/80\n",
            "27/27 [==============================] - 7s 245ms/step - loss: 0.4326 - accuracy: 0.8166 - val_loss: 0.4685 - val_accuracy: 0.8004\n",
            "Epoch 74/80\n",
            "27/27 [==============================] - 7s 245ms/step - loss: 0.4315 - accuracy: 0.8170 - val_loss: 0.4683 - val_accuracy: 0.8017\n",
            "Epoch 75/80\n",
            "27/27 [==============================] - 7s 245ms/step - loss: 0.4298 - accuracy: 0.8165 - val_loss: 0.4692 - val_accuracy: 0.8009\n",
            "Epoch 76/80\n",
            "27/27 [==============================] - 7s 245ms/step - loss: 0.4301 - accuracy: 0.8167 - val_loss: 0.4665 - val_accuracy: 0.8020\n",
            "Epoch 77/80\n",
            "27/27 [==============================] - 7s 245ms/step - loss: 0.4268 - accuracy: 0.8183 - val_loss: 0.4665 - val_accuracy: 0.8014\n",
            "Epoch 78/80\n",
            "27/27 [==============================] - 7s 244ms/step - loss: 0.4262 - accuracy: 0.8195 - val_loss: 0.4670 - val_accuracy: 0.8021\n",
            "Epoch 79/80\n",
            "27/27 [==============================] - 7s 245ms/step - loss: 0.4271 - accuracy: 0.8187 - val_loss: 0.4667 - val_accuracy: 0.8013\n",
            "Epoch 80/80\n",
            "27/27 [==============================] - 7s 243ms/step - loss: 0.4273 - accuracy: 0.8187 - val_loss: 0.4664 - val_accuracy: 0.8015\n"
          ],
          "name": "stdout"
        }
      ]
    },
    {
      "cell_type": "code",
      "metadata": {
        "colab": {
          "base_uri": "https://localhost:8080/"
        },
        "id": "hkV0dEtV4y1j",
        "outputId": "1cca3928-6019-45e7-f3ea-49a88b07f895"
      },
      "source": [
        "model.load_weights('saved_model.hdf5')\n",
        "loss, accuracy = model.evaluate(X_train_bert_scaled, y_train, verbose=False)\n",
        "print(\"Training Accuracy: {:.4f}\".format(accuracy))\n",
        "loss, accuracy = model.evaluate(X_val_bert_scaled, y_val, verbose=False)\n",
        "print(\"Testing Accuracy:  {:.4f}\".format(accuracy))"
      ],
      "execution_count": 23,
      "outputs": [
        {
          "output_type": "stream",
          "text": [
            "Training Accuracy: 0.8398\n",
            "Testing Accuracy:  0.8015\n"
          ],
          "name": "stdout"
        }
      ]
    },
    {
      "cell_type": "code",
      "metadata": {
        "id": "8IWNivK_47j3"
      },
      "source": [
        "import matplotlib.pyplot as plt\n",
        "plt.style.use('ggplot')\n",
        "\n",
        "def plot_history(history):\n",
        "    acc = history.history['accuracy']\n",
        "    val_acc = history.history['val_accuracy']\n",
        "    loss = history.history['loss']\n",
        "    val_loss = history.history['val_loss']\n",
        "    x = range(1, len(acc) + 1)\n",
        "\n",
        "    plt.figure(figsize=(12, 5))\n",
        "    plt.subplot(1, 2, 1)\n",
        "    plt.plot(x, acc, 'b', label='Training acc')\n",
        "    plt.plot(x, val_acc, 'r', label='Validation acc')\n",
        "    plt.title('Training and validation accuracy')\n",
        "    plt.legend()\n",
        "    plt.subplot(1, 2, 2)\n",
        "    plt.plot(x, loss, 'b', label='Training loss')\n",
        "    plt.plot(x, val_loss, 'r', label='Validation loss')\n",
        "    plt.title('Training and validation loss')\n",
        "    plt.legend()"
      ],
      "execution_count": 24,
      "outputs": []
    },
    {
      "cell_type": "code",
      "metadata": {
        "colab": {
          "base_uri": "https://localhost:8080/",
          "height": 337
        },
        "id": "NJIKFOg_5Ggo",
        "outputId": "3eb84133-7e8f-4fab-99d4-6505bafde29c"
      },
      "source": [
        "plot_history(history)"
      ],
      "execution_count": 25,
      "outputs": [
        {
          "output_type": "display_data",
          "data": {
            "image/png": "[encoded data removed]",
            "text/plain": [
              "<Figure size 864x360 with 2 Axes>"
            ]
          },
          "metadata": {
            "tags": []
          }
        }
      ]
    },
    {
      "cell_type": "code",
      "metadata": {
        "id": "XPfsjd-AGZwM"
      },
      "source": [
        ""
      ],
      "execution_count": 32,
      "outputs": []
    }
  ]
}